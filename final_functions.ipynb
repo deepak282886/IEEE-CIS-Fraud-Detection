{
  "nbformat": 4,
  "nbformat_minor": 0,
  "metadata": {
    "colab": {
      "name": "final_f.ipynb",
      "provenance": []
    },
    "kernelspec": {
      "name": "python3",
      "display_name": "Python 3"
    },
    "language_info": {
      "name": "python"
    }
  },
  "cells": [
    {
      "cell_type": "markdown",
      "source": [
        "#Loading models, lists and imputors"
      ],
      "metadata": {
        "id": "4OIxcDRs41qi"
      }
    },
    {
      "cell_type": "code",
      "source": [
        "import os\n",
        "import pandas as pd\n",
        "import numpy as np\n",
        "import pickle\n",
        "from sklearn.metrics import f1_score"
      ],
      "metadata": {
        "id": "oBGNzXRg4K_5"
      },
      "execution_count": 1,
      "outputs": []
    },
    {
      "cell_type": "code",
      "source": [
        "from google.colab import drive\n",
        "\n",
        "drive.mount('/content/drive')    "
      ],
      "metadata": {
        "colab": {
          "base_uri": "https://localhost:8080/"
        },
        "id": "Xguy1r4q4RxG",
        "outputId": "9d234b8d-ef44-45fb-fe5f-38e060fce8e5"
      },
      "execution_count": 2,
      "outputs": [
        {
          "output_type": "stream",
          "name": "stdout",
          "text": [
            "Mounted at /content/drive\n"
          ]
        }
      ]
    },
    {
      "cell_type": "code",
      "source": [
        "%cd /content/drive/MyDrive/              "
      ],
      "metadata": {
        "colab": {
          "base_uri": "https://localhost:8080/"
        },
        "id": "lZl_ivsi4g04",
        "outputId": "f3ea6c7e-d6f8-4d2b-fedc-273c424595ec"
      },
      "execution_count": 3,
      "outputs": [
        {
          "output_type": "stream",
          "name": "stdout",
          "text": [
            "/content/drive/MyDrive\n"
          ]
        }
      ]
    },
    {
      "cell_type": "code",
      "source": [
        "def loading_assets():\n",
        "    global cat_imputer, mice_list, cat, new_var, num_imputer, cols, low_correlation, top_10, final_cols, model_1, model_2, model_3, model_4, metamodel\n",
        "    cat_imputer = pickle.load(open('cat_imputer.dat', 'rb'))\n",
        "    mice_list = pickle.load(open('mice_list.pkl' , 'rb'))\n",
        "    cat = pickle.load(open('cat_cols.pkl', 'rb'))\n",
        "    new_var = pickle.load(open('new_var.pkl', 'rb'))\n",
        "    num_imputer = pickle.load(open('num_imputer.dat', 'rb'))\n",
        "    cols = pickle.load(open('all_cols.pkl', 'rb'))\n",
        "    low_correlation = pickle.load(open('low_correlation.pkl', 'rb'))\n",
        "    top_10 = pickle.load(open('top_10.pkl', 'rb'))\n",
        "    final_cols = pickle.load(open('final_cols.pkl', 'rb'))\n",
        "    model_1 = pickle.load(open('base_xg0.dat', 'rb'))\n",
        "    model_2 = pickle.load(open('base_gnb1.dat', 'rb'))\n",
        "    model_3 = pickle.load(open('base_xg2.dat', 'rb'))\n",
        "    model_4 = pickle.load(open('base_gnb3.dat', 'rb'))\n",
        "    metamodel = pickle.load(open('metamodel.dat', 'rb'))\n",
        "\n",
        "loading_assets()"
      ],
      "metadata": {
        "id": "rZBuDNIqRuoh"
      },
      "execution_count": 6,
      "outputs": []
    },
    {
      "cell_type": "markdown",
      "source": [
        "#Pre-process and other functions"
      ],
      "metadata": {
        "id": "M3S5p3Db5IMX"
      }
    },
    {
      "cell_type": "code",
      "source": [
        "def new_features(train, feature):\n",
        "     train[feature + 'mean'] = train.groupby('uid', as_index=False)[feature].transform('mean')\n",
        "     train[feature + 'sum'] = train.groupby('uid', as_index=False)[feature].transform('sum')"
      ],
      "metadata": {
        "id": "D9u6Tc3XYkvk"
      },
      "execution_count": 7,
      "outputs": []
    },
    {
      "cell_type": "code",
      "source": [
        "def pre_process(test):\n",
        "  test.columns = [c.replace('-', '_') for c in test.columns]\n",
        "  test.loc[:,cat] = (test[cat].apply(lambda x: pd.factorize(x)[0]))\n",
        "  test.loc[:,mice_list] = cat_imputer.transform(test[mice_list])\n",
        "  for po in new_var:\n",
        "     nan_var = 2\n",
        "     test.loc[:,po] = test[po].fillna(nan_var)\n",
        "  test.loc[:,'P_emaildomain'] = test['P_emaildomain'].fillna(0)\n",
        "  test.loc[:,cols] = num_imputer.transform(test[cols]) \n",
        "  for i in low_correlation:\n",
        "     fea_sc = i + 'sincos'\n",
        "     test[fea_sc] = np.cos(test[i]) * np.sin(test[i])\n",
        "  test['uid'] = test['P_emaildomain'].astype(str) + '_' + test['M5'].astype(str) + '_' + test['ProductCD'].astype(str)\n",
        "  for i in top_10:\n",
        "     fea = ''.join(i)\n",
        "     new_features(test, fea)\n",
        "  test['tday'] = test['TransactionDT']/(24*60*60)\n",
        "  test['TransactionAmtcount'] = test.groupby('uid', as_index=False)['TransactionAmt'].transform('count')\n",
        "  test = test[final_cols].astype(float)\n",
        "  return test"
      ],
      "metadata": {
        "id": "WYvJz56AXfX8"
      },
      "execution_count": 8,
      "outputs": []
    },
    {
      "cell_type": "code",
      "source": [
        "def prediction_dataset(sec_test_x):\n",
        "  list_of_models = [model_1, model_2, model_3, model_4]\n",
        "  all_pred = []\n",
        "  for tt in range(len(list_of_models)):\n",
        "     predict = list_of_models[tt].predict(sec_test_x)\n",
        "     all_pred.append(predict)\n",
        "     \n",
        "  final_pred = np.stack(all_pred, axis=1)\n",
        "  return final_pred"
      ],
      "metadata": {
        "id": "nuDtNoimAZpL"
      },
      "execution_count": 9,
      "outputs": []
    },
    {
      "cell_type": "code",
      "source": [
        "def meta_predict(sec_test_x):\n",
        "    final_pred = prediction_dataset(sec_test_x)\n",
        "    meta_prediction = metamodel.predict(final_pred)\n",
        "    result = {}\n",
        "    for k in range(len(meta_prediction)):\n",
        "         if meta_prediction[k] == 0:\n",
        "            result['row number-'+str(k)] = 'Transaction is not fraud'\n",
        "         elif meta_prediction[k] == 1:\n",
        "            result['row number-'+str(k)] = 'Transaction is fraud'\n",
        "\n",
        "    return result, meta_prediction"
      ],
      "metadata": {
        "id": "5FJQ5RibAQvM"
      },
      "execution_count": 19,
      "outputs": []
    },
    {
      "cell_type": "code",
      "source": [
        "def metric_eval(test_y, meta_prediction):\n",
        "    fone = f1_score(test_y, meta_prediction, average=None)\n",
        "    if len(fone) > 1:\n",
        "        print('Transaction not being fraud f1 score:', fone[0])\n",
        "        print('Transaction being fraud f1 score:', fone[1])\n",
        "    elif len(fone) < 2:\n",
        "        if sum(test_y) > 0:\n",
        "           print('Transaction not being fraud f1 score:', 0)\n",
        "           print('Transaction being fraud f1 score:', fone[0])\n",
        "        else:\n",
        "           print('Transaction not being fraud f1 score:', fone[0])\n",
        "           print('Transaction being fraud f1 score:', 0)"
      ],
      "metadata": {
        "id": "uGuSLWSwAqUz"
      },
      "execution_count": 11,
      "outputs": []
    },
    {
      "cell_type": "markdown",
      "source": [
        "#Final functions"
      ],
      "metadata": {
        "id": "I2IVbQYC5QUO"
      }
    },
    {
      "cell_type": "code",
      "source": [
        "def final_fun_1(test_transaction,test_identity):\n",
        "   test = test_transaction.merge(test_identity, on='TransactionID', how='left')\n",
        "   test_final = pre_process(test)\n",
        "   result, meta_prediction = meta_predict(test_final.values)\n",
        "   return result, meta_prediction"
      ],
      "metadata": {
        "id": "TMtQMhEd0J4y"
      },
      "execution_count": 20,
      "outputs": []
    },
    {
      "cell_type": "code",
      "source": [
        "def final_fun_2(test_transaction,test_identity,test_y):\n",
        "   test = test_transaction.merge(test_identity, on='TransactionID', how='left')\n",
        "   test_final = pre_process(test)\n",
        "   result, meta_prediction = meta_predict(test_final.values)\n",
        "   metric_eval(test_y, meta_prediction)"
      ],
      "metadata": {
        "id": "Srtvjnff42PZ"
      },
      "execution_count": 21,
      "outputs": []
    },
    {
      "cell_type": "code",
      "source": [
        "test_tran = pd.read_csv('train_transaction.csv')\n",
        "test_id = pd.read_csv('train_identity.csv')"
      ],
      "metadata": {
        "id": "jgqARbFr4r9D"
      },
      "execution_count": 14,
      "outputs": []
    },
    {
      "cell_type": "code",
      "source": [
        "final_fun_1(test_tran[:1], test_id[:1])"
      ],
      "metadata": {
        "colab": {
          "base_uri": "https://localhost:8080/"
        },
        "id": "FeYTsH_-A8Dv",
        "outputId": "76a84986-7174-44fd-e249-0e4de7001356"
      },
      "execution_count": 22,
      "outputs": [
        {
          "output_type": "execute_result",
          "data": {
            "text/plain": [
              "({'row number-0': 'Transaction is not fraud'}, array([0]))"
            ]
          },
          "metadata": {},
          "execution_count": 22
        }
      ]
    },
    {
      "cell_type": "code",
      "source": [
        "final_fun_2(test_tran[:1], test_id[:1],test_tran['isFraud'][:1])"
      ],
      "metadata": {
        "colab": {
          "base_uri": "https://localhost:8080/"
        },
        "id": "AHtrTFBSV7CT",
        "outputId": "a5093a90-8aa0-4b40-f5d7-8ef0adad7a3a"
      },
      "execution_count": 24,
      "outputs": [
        {
          "output_type": "stream",
          "name": "stdout",
          "text": [
            "Transaction not being fraud f1 score: 1.0\n",
            "Transaction being fraud f1 score: 0\n"
          ]
        }
      ]
    },
    {
      "cell_type": "code",
      "source": [
        "final_fun_2(test_tran[:100], test_id[:100],test_tran['isFraud'][:100])"
      ],
      "metadata": {
        "colab": {
          "base_uri": "https://localhost:8080/"
        },
        "id": "8K9_ubdn7nTx",
        "outputId": "5989f1f1-5da7-4f30-e975-d7a781d6ffa5"
      },
      "execution_count": 23,
      "outputs": [
        {
          "output_type": "stream",
          "name": "stdout",
          "text": [
            "Transaction not being fraud f1 score: 1.0\n",
            "Transaction being fraud f1 score: 0\n"
          ]
        }
      ]
    }
  ]
}