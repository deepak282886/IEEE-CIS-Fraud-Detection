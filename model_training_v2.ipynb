{
  "cells": [
    {
      "cell_type": "code",
      "execution_count": 159,
      "metadata": {
        "id": "fsD4d5qmX9sI"
      },
      "outputs": [],
      "source": [
        "import pandas as pd \n",
        "import numpy as np\n",
        "from google.colab import drive\n",
        "import warnings\n",
        "warnings.filterwarnings(\"ignore\")\n",
        "import pickle\n",
        "from sklearn.metrics import roc_auc_score, auc, f1_score, roc_curve, confusion_matrix\n",
        "import matplotlib.pyplot as plt\n",
        "import seaborn as sns\n",
        "from prettytable import PrettyTable as pt"
      ]
    },
    {
      "cell_type": "code",
      "execution_count": 2,
      "metadata": {
        "colab": {
          "base_uri": "https://localhost:8080/"
        },
        "id": "ZmRnUYevpXpI",
        "outputId": "339ab5b0-fd12-47a5-acc8-1c9d3815ebec"
      },
      "outputs": [
        {
          "output_type": "stream",
          "name": "stdout",
          "text": [
            "Mounted at /content/drive/\n"
          ]
        }
      ],
      "source": [
        "drive.mount('/content/drive/')"
      ]
    },
    {
      "cell_type": "code",
      "execution_count": 3,
      "metadata": {
        "colab": {
          "base_uri": "https://localhost:8080/"
        },
        "id": "Y_xnRk_apbQq",
        "outputId": "7c2548dd-0f28-4701-91fe-08b70e5d65ed"
      },
      "outputs": [
        {
          "output_type": "stream",
          "name": "stdout",
          "text": [
            "/content/drive/MyDrive\n"
          ]
        }
      ],
      "source": [
        "%cd /content/drive/MyDrive/"
      ]
    },
    {
      "cell_type": "code",
      "execution_count": 4,
      "metadata": {
        "id": "_TOD3xfbqILO"
      },
      "outputs": [],
      "source": [
        "smote_x = pd.read_csv('smote_x.csv')\n",
        "smote_y = pd.read_csv('smote_y.csv')"
      ]
    },
    {
      "cell_type": "code",
      "execution_count": 5,
      "metadata": {
        "id": "SPFq4nbqqdm8"
      },
      "outputs": [],
      "source": [
        "over_x = pd.read_csv('randomover_x.csv')\n",
        "over_y = pd.read_csv('randomover_y.csv')"
      ]
    },
    {
      "cell_type": "code",
      "execution_count": 6,
      "metadata": {
        "id": "7JMsvpSsqzOw"
      },
      "outputs": [],
      "source": [
        "under_x = pd.read_csv('randomunder_x.csv')\n",
        "under_y = pd.read_csv('randomunder_y.csv')"
      ]
    },
    {
      "cell_type": "code",
      "execution_count": 7,
      "metadata": {
        "id": "ylykBInBrCgv"
      },
      "outputs": [],
      "source": [
        "from sklearn.model_selection import train_test_split"
      ]
    },
    {
      "cell_type": "code",
      "execution_count": 8,
      "metadata": {
        "id": "SfOiE0ANrIe4"
      },
      "outputs": [],
      "source": [
        "train_smote_x, test_smote_x, train_smote_y, test_smote_y = train_test_split(smote_x, smote_y, test_size=0.3)"
      ]
    },
    {
      "cell_type": "code",
      "execution_count": 9,
      "metadata": {
        "id": "D3AksyxzrrEK"
      },
      "outputs": [],
      "source": [
        "train_over_x, test_over_x, train_over_y, test_over_y = train_test_split(over_x, over_y, test_size=0.3)"
      ]
    },
    {
      "cell_type": "code",
      "execution_count": 10,
      "metadata": {
        "id": "TlvFMyrksBQi"
      },
      "outputs": [],
      "source": [
        "train_under_x, test_under_x, train_under_y, test_under_y = train_test_split(under_x, under_y, test_size=0.3)"
      ]
    },
    {
      "cell_type": "markdown",
      "source": [
        "#KNN : SMOTE"
      ],
      "metadata": {
        "id": "5SV45tMxjSsA"
      }
    },
    {
      "cell_type": "code",
      "execution_count": 11,
      "metadata": {
        "id": "r3U30CQKsPqd"
      },
      "outputs": [],
      "source": [
        "from sklearn.neighbors import KNeighborsClassifier"
      ]
    },
    {
      "cell_type": "code",
      "execution_count": 12,
      "metadata": {
        "colab": {
          "base_uri": "https://localhost:8080/"
        },
        "id": "UMjrrxv_sUrj",
        "outputId": "737a8b42-9832-49c8-9b0d-0aed8d89fd4b"
      },
      "outputs": [
        {
          "output_type": "execute_result",
          "data": {
            "text/plain": [
              "KNeighborsClassifier()"
            ]
          },
          "metadata": {},
          "execution_count": 12
        }
      ],
      "source": [
        "knn = KNeighborsClassifier(n_neighbors=5)\n",
        "knn.fit(train_smote_x.values, train_smote_y.values.ravel())"
      ]
    },
    {
      "cell_type": "code",
      "execution_count": null,
      "metadata": {
        "id": "6MJyCWQJdxo3"
      },
      "outputs": [],
      "source": [
        "smote_pred = knn.predict(test_smote_x.values)"
      ]
    },
    {
      "cell_type": "code",
      "execution_count": null,
      "metadata": {
        "id": "H1fHIwtbTTni"
      },
      "outputs": [],
      "source": [
        "np.save('smote_pred', smote_pred)"
      ]
    },
    {
      "cell_type": "code",
      "source": [
        "smote_proba = knn.predict_proba(test_smote_x.values)"
      ],
      "metadata": {
        "id": "NC9DoQPQbF0l"
      },
      "execution_count": 14,
      "outputs": []
    },
    {
      "cell_type": "code",
      "source": [
        "auc_score1 = roc_auc_score(test_smote_y.values, smote_proba[:,1])\n",
        "auc_score1"
      ],
      "metadata": {
        "colab": {
          "base_uri": "https://localhost:8080/"
        },
        "id": "r4ggnOZRcNWw",
        "outputId": "387503d5-e9cb-459d-aee8-093f035fbf24"
      },
      "execution_count": 45,
      "outputs": [
        {
          "output_type": "execute_result",
          "data": {
            "text/plain": [
              "0.9836063388575778"
            ]
          },
          "metadata": {},
          "execution_count": 45
        }
      ]
    },
    {
      "cell_type": "code",
      "source": [
        "fpr1, tpr1, thresh1 = roc_curve(test_smote_y.values, smote_proba[:,1])"
      ],
      "metadata": {
        "id": "dgHLHjt_c7IS"
      },
      "execution_count": 49,
      "outputs": []
    },
    {
      "cell_type": "code",
      "source": [
        "plt.plot(fpr1, tpr1)\n",
        "plt.title('KNN - Smote')\n",
        "plt.xlabel('False Positive Rate')\n",
        "plt.ylabel('True Positive rate')\n",
        "\n",
        "plt.show();"
      ],
      "metadata": {
        "colab": {
          "base_uri": "https://localhost:8080/",
          "height": 295
        },
        "id": "dgm1jy3egu-t",
        "outputId": "12930355-297b-4418-c066-8a268317b72a"
      },
      "execution_count": 60,
      "outputs": [
        {
          "output_type": "display_data",
          "data": {
            "image/png": "[encoded data removed]",
            "text/plain": [
              "<Figure size 432x288 with 1 Axes>"
            ]
          },
          "metadata": {
            "needs_background": "light"
          }
        }
      ]
    },
    {
      "cell_type": "code",
      "source": [
        "smote_pred = np.load('smote_pred.npy')"
      ],
      "metadata": {
        "id": "S0Fe4hulh3YH"
      },
      "execution_count": 52,
      "outputs": []
    },
    {
      "cell_type": "code",
      "source": [
        "f1_score1 = f1_score(test_smote_y.values, smote_pred, average=None)\n",
        "f1_score1"
      ],
      "metadata": {
        "colab": {
          "base_uri": "https://localhost:8080/"
        },
        "id": "UJAUMs-khh_L",
        "outputId": "56c6b8a0-48d0-4978-eac1-0f08189fe468"
      },
      "execution_count": 157,
      "outputs": [
        {
          "output_type": "execute_result",
          "data": {
            "text/plain": [
              "array([0.47738979, 0.52018377])"
            ]
          },
          "metadata": {},
          "execution_count": 157
        }
      ]
    },
    {
      "cell_type": "code",
      "source": [
        "smote_knn_confusion = confusion_matrix(test_smote_y.values, smote_pred)\n",
        "sns.heatmap(smote_knn_confusion, annot=True, fmt='g')\n",
        "plt.xlabel('Prediction')\n",
        "plt.ylabel('True')\n",
        "plt.plot()"
      ],
      "metadata": {
        "colab": {
          "base_uri": "https://localhost:8080/",
          "height": 296
        },
        "id": "Qdnv2ok0iPK8",
        "outputId": "3a3bebfe-9338-4a6f-fb0f-9ed84158e414"
      },
      "execution_count": 56,
      "outputs": [
        {
          "output_type": "execute_result",
          "data": {
            "text/plain": [
              "[]"
            ]
          },
          "metadata": {},
          "execution_count": 56
        },
        {
          "output_type": "display_data",
          "data": {
            "image/png": "[encoded data removed]",
            "text/plain": [
              "<Figure size 432x288 with 2 Axes>"
            ]
          },
          "metadata": {
            "needs_background": "light"
          }
        }
      ]
    },
    {
      "cell_type": "markdown",
      "source": [
        "#KNN : Random Over Sampling"
      ],
      "metadata": {
        "id": "pdDPRixvVXFg"
      }
    },
    {
      "cell_type": "code",
      "execution_count": 15,
      "metadata": {
        "id": "1X7fU9GJtRo0"
      },
      "outputs": [],
      "source": [
        "knn2 = KNeighborsClassifier(n_neighbors=5)"
      ]
    },
    {
      "cell_type": "code",
      "execution_count": 16,
      "metadata": {
        "colab": {
          "base_uri": "https://localhost:8080/"
        },
        "id": "9dvFVZ8sXUDP",
        "outputId": "8cd80695-868d-4963-ec5b-78ece218d6c0"
      },
      "outputs": [
        {
          "output_type": "execute_result",
          "data": {
            "text/plain": [
              "KNeighborsClassifier()"
            ]
          },
          "metadata": {},
          "execution_count": 16
        }
      ],
      "source": [
        "knn2.fit(train_over_x.values, train_over_y.values.ravel())"
      ]
    },
    {
      "cell_type": "code",
      "execution_count": null,
      "metadata": {
        "colab": {
          "background_save": true
        },
        "id": "-QQsssf6XeRV"
      },
      "outputs": [],
      "source": [
        "over_pred = knn2.predict(test_over_x.values)"
      ]
    },
    {
      "cell_type": "code",
      "execution_count": null,
      "metadata": {
        "colab": {
          "background_save": true
        },
        "id": "jq0-7HBRTPye"
      },
      "outputs": [],
      "source": [
        "np.save('over_pred', over_pred)"
      ]
    },
    {
      "cell_type": "code",
      "source": [
        "over_proba = knn2.predict_proba(test_over_x.values)"
      ],
      "metadata": {
        "id": "EVfZrTK14KaZ"
      },
      "execution_count": 17,
      "outputs": []
    },
    {
      "cell_type": "code",
      "source": [
        "auc_score2 = roc_auc_score(test_over_y.values, over_proba[:,1])\n",
        "auc_score2"
      ],
      "metadata": {
        "colab": {
          "base_uri": "https://localhost:8080/"
        },
        "outputId": "77802a04-4f6e-4720-8894-20656d2f1509",
        "id": "aQTMZHeLi51E"
      },
      "execution_count": 57,
      "outputs": [
        {
          "output_type": "execute_result",
          "data": {
            "text/plain": [
              "0.9893192956128215"
            ]
          },
          "metadata": {},
          "execution_count": 57
        }
      ]
    },
    {
      "cell_type": "code",
      "source": [
        "fpr2, tpr2, thresh2 = roc_curve(test_over_y.values, over_proba[:,1])"
      ],
      "metadata": {
        "id": "AVBkOjBhi51F"
      },
      "execution_count": 58,
      "outputs": []
    },
    {
      "cell_type": "code",
      "source": [
        "plt.plot(fpr2, tpr2)\n",
        "plt.title('KNN - Over Sampling')\n",
        "plt.xlabel('False Positive Rate')\n",
        "plt.ylabel('True Positive rate')\n",
        "plt.show();"
      ],
      "metadata": {
        "colab": {
          "base_uri": "https://localhost:8080/",
          "height": 295
        },
        "outputId": "db8ba07f-9a50-49ea-cd09-74e24a466910",
        "id": "w4rE6mFii51G"
      },
      "execution_count": 59,
      "outputs": [
        {
          "output_type": "display_data",
          "data": {
            "image/png": "[encoded data removed]",
            "text/plain": [
              "<Figure size 432x288 with 1 Axes>"
            ]
          },
          "metadata": {
            "needs_background": "light"
          }
        }
      ]
    },
    {
      "cell_type": "code",
      "source": [
        "over_pred = np.load('over_pred.npy')"
      ],
      "metadata": {
        "id": "aBT_TlIZi51H"
      },
      "execution_count": 61,
      "outputs": []
    },
    {
      "cell_type": "code",
      "source": [
        "f1_score2 = f1_score(test_over_y.values, over_pred, average=None)\n",
        "f1_score2"
      ],
      "metadata": {
        "colab": {
          "base_uri": "https://localhost:8080/"
        },
        "outputId": "d8f58e1c-4483-432e-cafb-9691004a9516",
        "id": "blS8lwzIi51I"
      },
      "execution_count": 156,
      "outputs": [
        {
          "output_type": "execute_result",
          "data": {
            "text/plain": [
              "array([0.48246612, 0.51641482])"
            ]
          },
          "metadata": {},
          "execution_count": 156
        }
      ]
    },
    {
      "cell_type": "code",
      "source": [
        "over_knn_confusion = confusion_matrix(test_over_y.values, over_pred)\n",
        "sns.heatmap(over_knn_confusion, annot=True, fmt='g')\n",
        "plt.xlabel('Prediction')\n",
        "plt.ylabel('True')\n",
        "plt.plot()"
      ],
      "metadata": {
        "colab": {
          "base_uri": "https://localhost:8080/",
          "height": 296
        },
        "outputId": "b8512dd0-d570-4feb-a7d1-26e46d082825",
        "id": "ihMAYPZXi51I"
      },
      "execution_count": 63,
      "outputs": [
        {
          "output_type": "execute_result",
          "data": {
            "text/plain": [
              "[]"
            ]
          },
          "metadata": {},
          "execution_count": 63
        },
        {
          "output_type": "display_data",
          "data": {
            "image/png": "[encoded data removed]",
            "text/plain": [
              "<Figure size 432x288 with 2 Axes>"
            ]
          },
          "metadata": {
            "needs_background": "light"
          }
        }
      ]
    },
    {
      "cell_type": "markdown",
      "source": [
        "#KNN : Random Under Sampling"
      ],
      "metadata": {
        "id": "iyahSOJMVffY"
      }
    },
    {
      "cell_type": "code",
      "execution_count": 18,
      "metadata": {
        "id": "06XbOJHcSJ3F"
      },
      "outputs": [],
      "source": [
        "knn3 = KNeighborsClassifier(n_neighbors=5)"
      ]
    },
    {
      "cell_type": "code",
      "execution_count": 19,
      "metadata": {
        "colab": {
          "base_uri": "https://localhost:8080/"
        },
        "id": "8Ex3evWpSOnc",
        "outputId": "c1f43775-93fb-4994-d9ce-965f1184c7cc"
      },
      "outputs": [
        {
          "output_type": "execute_result",
          "data": {
            "text/plain": [
              "KNeighborsClassifier()"
            ]
          },
          "metadata": {},
          "execution_count": 19
        }
      ],
      "source": [
        "knn3.fit(train_under_x.values, train_under_y.values.ravel())"
      ]
    },
    {
      "cell_type": "code",
      "execution_count": null,
      "metadata": {
        "id": "zQKwaY4nSja_"
      },
      "outputs": [],
      "source": [
        "under_pred = knn3.predict(test_under_x.values)"
      ]
    },
    {
      "cell_type": "code",
      "execution_count": null,
      "metadata": {
        "id": "nRIVEaeUSvtr"
      },
      "outputs": [],
      "source": [
        "np.save('under_pred', under_pred)"
      ]
    },
    {
      "cell_type": "code",
      "source": [
        "under_proba = knn3.predict_proba(test_under_x.values)"
      ],
      "metadata": {
        "id": "s9sNTyIKXVaD"
      },
      "execution_count": 20,
      "outputs": []
    },
    {
      "cell_type": "code",
      "source": [
        "auc_score3 = roc_auc_score(test_under_y.values, under_proba[:,1])\n",
        "auc_score3"
      ],
      "metadata": {
        "colab": {
          "base_uri": "https://localhost:8080/"
        },
        "outputId": "0a80c632-d1b1-42f0-8edd-c85f0acf7db3",
        "id": "VOQaq-cakcEq"
      },
      "execution_count": 64,
      "outputs": [
        {
          "output_type": "execute_result",
          "data": {
            "text/plain": [
              "0.8365895558123315"
            ]
          },
          "metadata": {},
          "execution_count": 64
        }
      ]
    },
    {
      "cell_type": "code",
      "source": [
        "fpr3, tpr3, thresh3 = roc_curve(test_under_y.values, under_proba[:,1])"
      ],
      "metadata": {
        "id": "mgzSYWjqkcEr"
      },
      "execution_count": 65,
      "outputs": []
    },
    {
      "cell_type": "code",
      "source": [
        "plt.plot(fpr3, tpr3)\n",
        "plt.title('KNN - Under Sampling')\n",
        "plt.xlabel('False Positive Rate')\n",
        "plt.ylabel('True Positive rate')\n",
        "plt.show();"
      ],
      "metadata": {
        "colab": {
          "base_uri": "https://localhost:8080/",
          "height": 295
        },
        "outputId": "08ad2434-c822-4d96-e727-da04a5bd5f90",
        "id": "5bYL4tS8kcEr"
      },
      "execution_count": 72,
      "outputs": [
        {
          "output_type": "display_data",
          "data": {
            "image/png": "[encoded data removed]",
            "text/plain": [
              "<Figure size 432x288 with 1 Axes>"
            ]
          },
          "metadata": {
            "needs_background": "light"
          }
        }
      ]
    },
    {
      "cell_type": "code",
      "source": [
        "under_pred = np.load('under_pred.npy')"
      ],
      "metadata": {
        "id": "2eBmbnnLkcEs"
      },
      "execution_count": 67,
      "outputs": []
    },
    {
      "cell_type": "code",
      "source": [
        "f1_score3 = f1_score(test_under_y.values, under_pred, average=None)\n",
        "f1_score3"
      ],
      "metadata": {
        "colab": {
          "base_uri": "https://localhost:8080/"
        },
        "outputId": "25a491ac-992d-4a88-fbec-5316f2d9e53a",
        "id": "3C9XSLmjkcEs"
      },
      "execution_count": 155,
      "outputs": [
        {
          "output_type": "execute_result",
          "data": {
            "text/plain": [
              "array([0.51312555, 0.49626651])"
            ]
          },
          "metadata": {},
          "execution_count": 155
        }
      ]
    },
    {
      "cell_type": "code",
      "source": [
        "under_knn_confusion = confusion_matrix(test_under_y.values, under_pred)\n",
        "sns.heatmap(under_knn_confusion, annot=True, fmt='g')\n",
        "plt.xlabel('Prediction')\n",
        "plt.ylabel('True')\n",
        "plt.plot()"
      ],
      "metadata": {
        "colab": {
          "base_uri": "https://localhost:8080/",
          "height": 296
        },
        "outputId": "bb53baba-a120-4bdb-ffb7-fec1335bf65b",
        "id": "lonXHqA5kcEs"
      },
      "execution_count": 69,
      "outputs": [
        {
          "output_type": "execute_result",
          "data": {
            "text/plain": [
              "[]"
            ]
          },
          "metadata": {},
          "execution_count": 69
        },
        {
          "output_type": "display_data",
          "data": {
            "image/png": "[encoded data removed]",
            "text/plain": [
              "<Figure size 432x288 with 2 Axes>"
            ]
          },
          "metadata": {
            "needs_background": "light"
          }
        }
      ]
    },
    {
      "cell_type": "markdown",
      "source": [
        "#Gaussian Naive Bayes : SMOTE"
      ],
      "metadata": {
        "id": "oqZsK394jY9A"
      }
    },
    {
      "cell_type": "code",
      "source": [
        "from sklearn.naive_bayes import GaussianNB"
      ],
      "metadata": {
        "id": "yX4CZ9ZNSN85"
      },
      "execution_count": 21,
      "outputs": []
    },
    {
      "cell_type": "code",
      "source": [
        "gnb = GaussianNB()\n",
        "gnb.fit(train_smote_x.values, train_smote_y.values.ravel())"
      ],
      "metadata": {
        "colab": {
          "base_uri": "https://localhost:8080/"
        },
        "id": "DuDAxACRSQzd",
        "outputId": "1d9bb942-1f88-4024-b59c-b541846e7279"
      },
      "execution_count": 22,
      "outputs": [
        {
          "output_type": "execute_result",
          "data": {
            "text/plain": [
              "GaussianNB()"
            ]
          },
          "metadata": {},
          "execution_count": 22
        }
      ]
    },
    {
      "cell_type": "code",
      "source": [
        "smote_pred_gnb = gnb.predict(test_smote_x.values)"
      ],
      "metadata": {
        "id": "8wDTTMopTZLX"
      },
      "execution_count": null,
      "outputs": []
    },
    {
      "cell_type": "code",
      "source": [
        "np.save('smote_pred_gnb', smote_pred_gnb)"
      ],
      "metadata": {
        "id": "ZkOJx_izVPC_"
      },
      "execution_count": null,
      "outputs": []
    },
    {
      "cell_type": "code",
      "source": [
        "smote_proba_gnb = gnb.predict_proba(test_smote_x.values)"
      ],
      "metadata": {
        "id": "fonPT1gfXk1T"
      },
      "execution_count": 23,
      "outputs": []
    },
    {
      "cell_type": "code",
      "source": [
        "auc_score4 = roc_auc_score(test_smote_y.values, smote_proba_gnb[:,1])\n",
        "auc_score4"
      ],
      "metadata": {
        "colab": {
          "base_uri": "https://localhost:8080/"
        },
        "outputId": "e766102e-9546-4fc4-815f-da818dc7033a",
        "id": "qNJluihYlKWY"
      },
      "execution_count": 70,
      "outputs": [
        {
          "output_type": "execute_result",
          "data": {
            "text/plain": [
              "0.6993754997476076"
            ]
          },
          "metadata": {},
          "execution_count": 70
        }
      ]
    },
    {
      "cell_type": "code",
      "source": [
        "fpr4, tpr4, thresh4 = roc_curve(test_smote_y.values, smote_proba_gnb[:,1])"
      ],
      "metadata": {
        "id": "PlimEYHqlKWZ"
      },
      "execution_count": 71,
      "outputs": []
    },
    {
      "cell_type": "code",
      "source": [
        "plt.plot(fpr4, tpr4)\n",
        "plt.title('GNB - Smote Sampling')\n",
        "plt.xlabel('False Positive Rate')\n",
        "plt.ylabel('True Positive rate')\n",
        "plt.show();"
      ],
      "metadata": {
        "colab": {
          "base_uri": "https://localhost:8080/",
          "height": 295
        },
        "outputId": "aef34bb9-8fba-41ac-daa4-b3a2161988ad",
        "id": "mNF6fcYplKWZ"
      },
      "execution_count": 73,
      "outputs": [
        {
          "output_type": "display_data",
          "data": {
            "image/png": "[encoded data removed]",
            "text/plain": [
              "<Figure size 432x288 with 1 Axes>"
            ]
          },
          "metadata": {
            "needs_background": "light"
          }
        }
      ]
    },
    {
      "cell_type": "code",
      "source": [
        "smote_pred_gnb = np.load('smote_pred_gnb.npy')"
      ],
      "metadata": {
        "id": "C7n02qZclKWa"
      },
      "execution_count": 74,
      "outputs": []
    },
    {
      "cell_type": "code",
      "source": [
        "f1_score4 = f1_score(test_smote_y.values, smote_pred_gnb, average=None)\n",
        "f1_score4"
      ],
      "metadata": {
        "colab": {
          "base_uri": "https://localhost:8080/"
        },
        "outputId": "4fdaee28-366b-4547-9db5-2f31616d0250",
        "id": "MdxeXNFMlKWa"
      },
      "execution_count": 154,
      "outputs": [
        {
          "output_type": "execute_result",
          "data": {
            "text/plain": [
              "array([0.16549825, 0.64315328])"
            ]
          },
          "metadata": {},
          "execution_count": 154
        }
      ]
    },
    {
      "cell_type": "code",
      "source": [
        "smote_gnb_confusion = confusion_matrix(test_smote_y.values, smote_pred_gnb)\n",
        "sns.heatmap(smote_gnb_confusion, annot=True, fmt='g')\n",
        "plt.xlabel('Prediction')\n",
        "plt.ylabel('True')\n",
        "plt.plot()"
      ],
      "metadata": {
        "colab": {
          "base_uri": "https://localhost:8080/",
          "height": 296
        },
        "outputId": "40eed652-b73c-4e9f-c658-930c350e2730",
        "id": "JdtzGiA5lKWa"
      },
      "execution_count": 76,
      "outputs": [
        {
          "output_type": "execute_result",
          "data": {
            "text/plain": [
              "[]"
            ]
          },
          "metadata": {},
          "execution_count": 76
        },
        {
          "output_type": "display_data",
          "data": {
            "image/png": "[encoded data removed]",
            "text/plain": [
              "<Figure size 432x288 with 2 Axes>"
            ]
          },
          "metadata": {
            "needs_background": "light"
          }
        }
      ]
    },
    {
      "cell_type": "markdown",
      "source": [
        "#Gaussian Naive Bayes : Random Over Sampling"
      ],
      "metadata": {
        "id": "u4VTtF4AVwnS"
      }
    },
    {
      "cell_type": "code",
      "source": [
        "gnb2 = GaussianNB()\n",
        "gnb2.fit(train_over_x.values, train_over_y.values.ravel())"
      ],
      "metadata": {
        "colab": {
          "base_uri": "https://localhost:8080/"
        },
        "id": "klV-tAFKdCg8",
        "outputId": "6fdd4a1e-241c-4bc4-c13c-5aa0ec60e220"
      },
      "execution_count": 24,
      "outputs": [
        {
          "output_type": "execute_result",
          "data": {
            "text/plain": [
              "GaussianNB()"
            ]
          },
          "metadata": {},
          "execution_count": 24
        }
      ]
    },
    {
      "cell_type": "code",
      "source": [
        "over_pred_gnb = gnb2.predict(test_over_x.values)"
      ],
      "metadata": {
        "id": "s26YADs3dKM-"
      },
      "execution_count": null,
      "outputs": []
    },
    {
      "cell_type": "code",
      "source": [
        "np.save('over_pred_gnb', over_pred_gnb)"
      ],
      "metadata": {
        "id": "vhI-OZFldjn1"
      },
      "execution_count": null,
      "outputs": []
    },
    {
      "cell_type": "code",
      "source": [
        "over_proba_gnb = gnb2.predict_proba(test_over_x.values)"
      ],
      "metadata": {
        "id": "ZNVEGNrXX5WO"
      },
      "execution_count": 25,
      "outputs": []
    },
    {
      "cell_type": "code",
      "source": [
        "auc_score5 = roc_auc_score(test_over_y.values, over_proba_gnb[:,1])\n",
        "auc_score5"
      ],
      "metadata": {
        "colab": {
          "base_uri": "https://localhost:8080/"
        },
        "outputId": "1b91fdf0-86f5-441f-ae32-91a4f9b4b5cb",
        "id": "t0JQUN7Bmn-L"
      },
      "execution_count": 77,
      "outputs": [
        {
          "output_type": "execute_result",
          "data": {
            "text/plain": [
              "0.6967449814671772"
            ]
          },
          "metadata": {},
          "execution_count": 77
        }
      ]
    },
    {
      "cell_type": "code",
      "source": [
        "fpr5, tpr5, thresh5 = roc_curve(test_over_y.values, over_proba_gnb[:,1])"
      ],
      "metadata": {
        "id": "PEseK4_Hmn-M"
      },
      "execution_count": 78,
      "outputs": []
    },
    {
      "cell_type": "code",
      "source": [
        "plt.plot(fpr5, tpr5)\n",
        "plt.title('GNB - Over Sampling')\n",
        "plt.xlabel('False Positive Rate')\n",
        "plt.ylabel('True Positive rate')\n",
        "plt.show();"
      ],
      "metadata": {
        "colab": {
          "base_uri": "https://localhost:8080/",
          "height": 295
        },
        "outputId": "3fbed05c-fd1b-4eb7-eab9-5a6ac16252e9",
        "id": "E4QcLHyumn-M"
      },
      "execution_count": 79,
      "outputs": [
        {
          "output_type": "display_data",
          "data": {
            "image/png": "[encoded data removed]",
            "text/plain": [
              "<Figure size 432x288 with 1 Axes>"
            ]
          },
          "metadata": {
            "needs_background": "light"
          }
        }
      ]
    },
    {
      "cell_type": "code",
      "source": [
        "over_pred_gnb = np.load('over_pred_gnb.npy')"
      ],
      "metadata": {
        "id": "0H47Bn_Vmn-N"
      },
      "execution_count": 80,
      "outputs": []
    },
    {
      "cell_type": "code",
      "source": [
        "f1_score5 = f1_score(test_over_y.values, over_pred_gnb, average=None)\n",
        "f1_score5"
      ],
      "metadata": {
        "colab": {
          "base_uri": "https://localhost:8080/"
        },
        "outputId": "d48f6a3a-e466-4365-bf9c-ce108886a6ce",
        "id": "ylJ6FuBamn-N"
      },
      "execution_count": 153,
      "outputs": [
        {
          "output_type": "execute_result",
          "data": {
            "text/plain": [
              "array([0.16631561, 0.64403179])"
            ]
          },
          "metadata": {},
          "execution_count": 153
        }
      ]
    },
    {
      "cell_type": "code",
      "source": [
        "over_gnb_confusion = confusion_matrix(test_over_y.values, over_pred_gnb)\n",
        "sns.heatmap(over_gnb_confusion, annot=True, fmt='g')\n",
        "plt.xlabel('Prediction')\n",
        "plt.ylabel('True')\n",
        "plt.plot()"
      ],
      "metadata": {
        "colab": {
          "base_uri": "https://localhost:8080/",
          "height": 296
        },
        "outputId": "f420923e-512a-4c60-bf80-0cc3369a3fa3",
        "id": "g4JlKo1cmn-O"
      },
      "execution_count": 82,
      "outputs": [
        {
          "output_type": "execute_result",
          "data": {
            "text/plain": [
              "[]"
            ]
          },
          "metadata": {},
          "execution_count": 82
        },
        {
          "output_type": "display_data",
          "data": {
            "image/png": "[encoded data removed]",
            "text/plain": [
              "<Figure size 432x288 with 2 Axes>"
            ]
          },
          "metadata": {
            "needs_background": "light"
          }
        }
      ]
    },
    {
      "cell_type": "markdown",
      "source": [
        "#Gaussian Naive Bayes : Random Under Sampling"
      ],
      "metadata": {
        "id": "L569IabgV1Ei"
      }
    },
    {
      "cell_type": "code",
      "source": [
        "gnb3 = GaussianNB()\n",
        "gnb3.fit(train_under_x.values, train_under_y.values.ravel())"
      ],
      "metadata": {
        "colab": {
          "base_uri": "https://localhost:8080/"
        },
        "id": "ImAEqZ_5dRrA",
        "outputId": "bdb70cc7-b4e6-45db-9fa8-eb76112da86e"
      },
      "execution_count": 26,
      "outputs": [
        {
          "output_type": "execute_result",
          "data": {
            "text/plain": [
              "GaussianNB()"
            ]
          },
          "metadata": {},
          "execution_count": 26
        }
      ]
    },
    {
      "cell_type": "code",
      "source": [
        "under_pred_gnb = gnb3.predict(test_under_x.values)"
      ],
      "metadata": {
        "id": "qWH8N3LAdYcq"
      },
      "execution_count": null,
      "outputs": []
    },
    {
      "cell_type": "code",
      "source": [
        "np.save('under_pred_gnb', under_pred_gnb)"
      ],
      "metadata": {
        "id": "PQGoOj59dzKv"
      },
      "execution_count": null,
      "outputs": []
    },
    {
      "cell_type": "code",
      "source": [
        "under_proba_gnb = gnb3.predict_proba(test_under_x.values)"
      ],
      "metadata": {
        "id": "PIiEP04gYEiZ"
      },
      "execution_count": 27,
      "outputs": []
    },
    {
      "cell_type": "code",
      "source": [
        "auc_score6 = roc_auc_score(test_under_y.values, under_proba_gnb[:,1])\n",
        "auc_score6"
      ],
      "metadata": {
        "colab": {
          "base_uri": "https://localhost:8080/"
        },
        "outputId": "4c83b008-a848-4b01-b4f2-bb7302d40d9d",
        "id": "iykRw3iinS-D"
      },
      "execution_count": 83,
      "outputs": [
        {
          "output_type": "execute_result",
          "data": {
            "text/plain": [
              "0.6925967724305924"
            ]
          },
          "metadata": {},
          "execution_count": 83
        }
      ]
    },
    {
      "cell_type": "code",
      "source": [
        "fpr6, tpr6, thresh6 = roc_curve(test_under_y.values, under_proba_gnb[:,1])"
      ],
      "metadata": {
        "id": "krRJzWfUnS-F"
      },
      "execution_count": 84,
      "outputs": []
    },
    {
      "cell_type": "code",
      "source": [
        "plt.plot(fpr6, tpr6)\n",
        "plt.title('GNB - Under Sampling')\n",
        "plt.xlabel('False Positive Rate')\n",
        "plt.ylabel('True Positive rate')\n",
        "plt.show();"
      ],
      "metadata": {
        "colab": {
          "base_uri": "https://localhost:8080/",
          "height": 295
        },
        "outputId": "d4db65a0-354c-4548-935d-8ec0d8a77921",
        "id": "b_Gr3soenS-F"
      },
      "execution_count": 85,
      "outputs": [
        {
          "output_type": "display_data",
          "data": {
            "image/png": "[encoded data removed]",
            "text/plain": [
              "<Figure size 432x288 with 1 Axes>"
            ]
          },
          "metadata": {
            "needs_background": "light"
          }
        }
      ]
    },
    {
      "cell_type": "code",
      "source": [
        "under_pred_gnb = np.load('under_pred_gnb.npy')"
      ],
      "metadata": {
        "id": "msfE7HEunS-G"
      },
      "execution_count": 86,
      "outputs": []
    },
    {
      "cell_type": "code",
      "source": [
        "f1_score6 = f1_score(test_under_y.values, under_pred_gnb, average=None)\n",
        "f1_score6"
      ],
      "metadata": {
        "colab": {
          "base_uri": "https://localhost:8080/"
        },
        "outputId": "b01a05de-1f37-4074-886f-a42aee67e637",
        "id": "qkiqRtRxnS-G"
      },
      "execution_count": 152,
      "outputs": [
        {
          "output_type": "execute_result",
          "data": {
            "text/plain": [
              "array([0.16171129, 0.64113344])"
            ]
          },
          "metadata": {},
          "execution_count": 152
        }
      ]
    },
    {
      "cell_type": "code",
      "source": [
        "under_gnb_confusion = confusion_matrix(test_under_y.values, under_pred_gnb)\n",
        "sns.heatmap(under_gnb_confusion, annot=True, fmt='g')\n",
        "plt.xlabel('Prediction')\n",
        "plt.ylabel('True')\n",
        "plt.plot()"
      ],
      "metadata": {
        "colab": {
          "base_uri": "https://localhost:8080/",
          "height": 296
        },
        "outputId": "d18db27c-ff58-462f-a40a-7cf73d450826",
        "id": "Xhr16zWSnS-H"
      },
      "execution_count": 88,
      "outputs": [
        {
          "output_type": "execute_result",
          "data": {
            "text/plain": [
              "[]"
            ]
          },
          "metadata": {},
          "execution_count": 88
        },
        {
          "output_type": "display_data",
          "data": {
            "image/png": "[encoded data removed]",
            "text/plain": [
              "<Figure size 432x288 with 2 Axes>"
            ]
          },
          "metadata": {
            "needs_background": "light"
          }
        }
      ]
    },
    {
      "cell_type": "markdown",
      "source": [
        "#Logistic Regression : SMOTE"
      ],
      "metadata": {
        "id": "RYTLYqysksfG"
      }
    },
    {
      "cell_type": "code",
      "source": [
        "from sklearn.linear_model import LogisticRegression"
      ],
      "metadata": {
        "id": "RsCM0sSATF8-"
      },
      "execution_count": 28,
      "outputs": []
    },
    {
      "cell_type": "code",
      "source": [
        "lr = LogisticRegression(max_iter=500)"
      ],
      "metadata": {
        "id": "vgoEnxW4UA5F"
      },
      "execution_count": 29,
      "outputs": []
    },
    {
      "cell_type": "code",
      "source": [
        "lr.fit(train_smote_x.values, train_smote_y.values.ravel())"
      ],
      "metadata": {
        "colab": {
          "base_uri": "https://localhost:8080/"
        },
        "id": "dg_x2Z9RUHVq",
        "outputId": "0b6e3fb2-9b14-4535-c7d7-95e3ed51d593"
      },
      "execution_count": 30,
      "outputs": [
        {
          "output_type": "execute_result",
          "data": {
            "text/plain": [
              "LogisticRegression(max_iter=500)"
            ]
          },
          "metadata": {},
          "execution_count": 30
        }
      ]
    },
    {
      "cell_type": "code",
      "source": [
        "smote_pred_lr = lr.predict(test_smote_x.values)"
      ],
      "metadata": {
        "id": "3yfyDVwCUQrr"
      },
      "execution_count": null,
      "outputs": []
    },
    {
      "cell_type": "code",
      "source": [
        "np.save('smote_pred_lr', smote_pred_lr)"
      ],
      "metadata": {
        "id": "uK1qQ1qwcOnI"
      },
      "execution_count": null,
      "outputs": []
    },
    {
      "cell_type": "code",
      "source": [
        "smote_proba_lr = lr.predict_proba(test_smote_x.values)"
      ],
      "metadata": {
        "id": "bMN1dWqfYVfU"
      },
      "execution_count": 31,
      "outputs": []
    },
    {
      "cell_type": "code",
      "source": [
        "auc_score7 = roc_auc_score(test_smote_y.values, smote_proba_lr[:,1])\n",
        "auc_score7"
      ],
      "metadata": {
        "colab": {
          "base_uri": "https://localhost:8080/"
        },
        "outputId": "82684823-92ac-4552-d656-3cb5141894d8",
        "id": "lW5V1NdLvomz"
      },
      "execution_count": 89,
      "outputs": [
        {
          "output_type": "execute_result",
          "data": {
            "text/plain": [
              "0.7393680382878657"
            ]
          },
          "metadata": {},
          "execution_count": 89
        }
      ]
    },
    {
      "cell_type": "code",
      "source": [
        "fpr7, tpr7, thresh7 = roc_curve(test_smote_y.values, smote_proba_lr[:,1])"
      ],
      "metadata": {
        "id": "maKQISMzvom0"
      },
      "execution_count": 90,
      "outputs": []
    },
    {
      "cell_type": "code",
      "source": [
        "plt.plot(fpr7, tpr7)\n",
        "plt.title('Logistic Regression - SMOTE')\n",
        "plt.xlabel('False Positive Rate')\n",
        "plt.ylabel('True Positive rate')\n",
        "plt.show();"
      ],
      "metadata": {
        "colab": {
          "base_uri": "https://localhost:8080/",
          "height": 295
        },
        "outputId": "041fbbc5-ceb3-4306-844c-b3ef54c1bc19",
        "id": "g7ttm4rVvom1"
      },
      "execution_count": 91,
      "outputs": [
        {
          "output_type": "display_data",
          "data": {
            "image/png": "[encoded data removed]",
            "text/plain": [
              "<Figure size 432x288 with 1 Axes>"
            ]
          },
          "metadata": {
            "needs_background": "light"
          }
        }
      ]
    },
    {
      "cell_type": "code",
      "source": [
        "smote_pred_lr = np.load('smote_pred_lr.npy')"
      ],
      "metadata": {
        "id": "mpAPtSCdvom1"
      },
      "execution_count": 92,
      "outputs": []
    },
    {
      "cell_type": "code",
      "source": [
        "f1_score7 = f1_score(test_smote_y.values, smote_pred_lr, average=None)\n",
        "f1_score7"
      ],
      "metadata": {
        "colab": {
          "base_uri": "https://localhost:8080/"
        },
        "outputId": "dc61d769-971b-4680-e0b2-004bb0df7669",
        "id": "zwQtj9ynvom1"
      },
      "execution_count": 151,
      "outputs": [
        {
          "output_type": "execute_result",
          "data": {
            "text/plain": [
              "array([0.5395566 , 0.45296252])"
            ]
          },
          "metadata": {},
          "execution_count": 151
        }
      ]
    },
    {
      "cell_type": "code",
      "source": [
        "smote_lr_confusion = confusion_matrix(test_smote_y.values, smote_pred_lr)\n",
        "sns.heatmap(smote_lr_confusion, annot=True, fmt='g')\n",
        "plt.xlabel('Prediction')\n",
        "plt.ylabel('True')\n",
        "plt.plot()"
      ],
      "metadata": {
        "colab": {
          "base_uri": "https://localhost:8080/",
          "height": 299
        },
        "outputId": "2a83d613-d479-4802-eb79-a1d26d2b3566",
        "id": "yArfJgt_vom2"
      },
      "execution_count": 94,
      "outputs": [
        {
          "output_type": "execute_result",
          "data": {
            "text/plain": [
              "[]"
            ]
          },
          "metadata": {},
          "execution_count": 94
        },
        {
          "output_type": "display_data",
          "data": {
            "image/png": "[encoded data removed]",
            "text/plain": [
              "<Figure size 432x288 with 2 Axes>"
            ]
          },
          "metadata": {
            "needs_background": "light"
          }
        }
      ]
    },
    {
      "cell_type": "markdown",
      "source": [
        "#Logistic Regression : Random Over Sampling"
      ],
      "metadata": {
        "id": "rzxhfbnYW6m9"
      }
    },
    {
      "cell_type": "code",
      "source": [
        "lr2 = LogisticRegression(max_iter=500)\n",
        "lr2.fit(train_over_x.values, train_over_y.values.ravel())"
      ],
      "metadata": {
        "colab": {
          "base_uri": "https://localhost:8080/"
        },
        "id": "7VmGVVaagHUz",
        "outputId": "61d67864-5258-4b68-f74a-64f9ab9eb626"
      },
      "execution_count": 32,
      "outputs": [
        {
          "output_type": "execute_result",
          "data": {
            "text/plain": [
              "LogisticRegression(max_iter=500)"
            ]
          },
          "metadata": {},
          "execution_count": 32
        }
      ]
    },
    {
      "cell_type": "code",
      "source": [
        "over_pred_lr = lr2.predict(test_over_x.values)"
      ],
      "metadata": {
        "id": "hOSryk-YgVGH"
      },
      "execution_count": null,
      "outputs": []
    },
    {
      "cell_type": "code",
      "source": [
        "np.save('over_pred_lr', over_pred_lr)"
      ],
      "metadata": {
        "id": "3JtvjhnacUT9"
      },
      "execution_count": null,
      "outputs": []
    },
    {
      "cell_type": "code",
      "source": [
        "over_proba_lr = lr2.predict_proba(test_over_x.values)"
      ],
      "metadata": {
        "id": "cSiudH1JZBAh"
      },
      "execution_count": 33,
      "outputs": []
    },
    {
      "cell_type": "code",
      "source": [
        "auc_score8 = roc_auc_score(test_over_y.values, over_proba_lr[:,1])\n",
        "auc_score8"
      ],
      "metadata": {
        "colab": {
          "base_uri": "https://localhost:8080/"
        },
        "outputId": "be71fce1-cf2f-4b71-f5e0-91e83f5c8e2c",
        "id": "xrIAmuCbwurS"
      },
      "execution_count": 95,
      "outputs": [
        {
          "output_type": "execute_result",
          "data": {
            "text/plain": [
              "0.7446040000712826"
            ]
          },
          "metadata": {},
          "execution_count": 95
        }
      ]
    },
    {
      "cell_type": "code",
      "source": [
        "fpr8, tpr8, thresh8 = roc_curve(test_over_y.values, over_proba_lr[:,1])"
      ],
      "metadata": {
        "id": "sm1OEUIDwurU"
      },
      "execution_count": 96,
      "outputs": []
    },
    {
      "cell_type": "code",
      "source": [
        "plt.plot(fpr8, tpr8)\n",
        "plt.title('Logistic Regression - Over Sampling')\n",
        "plt.xlabel('False Positive Rate')\n",
        "plt.ylabel('True Positive rate')\n",
        "plt.show();"
      ],
      "metadata": {
        "colab": {
          "base_uri": "https://localhost:8080/",
          "height": 295
        },
        "outputId": "b44c05dd-1110-4435-ae23-f244ceaa67a6",
        "id": "wSJih4V3wurU"
      },
      "execution_count": 97,
      "outputs": [
        {
          "output_type": "display_data",
          "data": {
            "image/png": "[encoded data removed]",
            "text/plain": [
              "<Figure size 432x288 with 1 Axes>"
            ]
          },
          "metadata": {
            "needs_background": "light"
          }
        }
      ]
    },
    {
      "cell_type": "code",
      "source": [
        "over_pred_lr = np.load('over_pred_lr.npy')"
      ],
      "metadata": {
        "id": "enNEf9OxwurV"
      },
      "execution_count": 98,
      "outputs": []
    },
    {
      "cell_type": "code",
      "source": [
        "f1_score8 = f1_score(test_over_y.values, over_pred_lr, average=None)\n",
        "f1_score8"
      ],
      "metadata": {
        "colab": {
          "base_uri": "https://localhost:8080/"
        },
        "outputId": "e8b16309-9d5d-457e-ea2e-b30680e0d6f7",
        "id": "XAXKPj82wurW"
      },
      "execution_count": 150,
      "outputs": [
        {
          "output_type": "execute_result",
          "data": {
            "text/plain": [
              "array([0.53335117, 0.46191143])"
            ]
          },
          "metadata": {},
          "execution_count": 150
        }
      ]
    },
    {
      "cell_type": "code",
      "source": [
        "over_lr_confusion = confusion_matrix(test_over_y.values, over_pred_lr)\n",
        "sns.heatmap(over_lr_confusion, annot=True, fmt='g')\n",
        "plt.xlabel('Prediction')\n",
        "plt.ylabel('True')\n",
        "plt.plot()"
      ],
      "metadata": {
        "colab": {
          "base_uri": "https://localhost:8080/",
          "height": 296
        },
        "outputId": "1f4e5178-c336-4cc8-94cf-619ba5071caf",
        "id": "t8pXsLddwurW"
      },
      "execution_count": 100,
      "outputs": [
        {
          "output_type": "execute_result",
          "data": {
            "text/plain": [
              "[]"
            ]
          },
          "metadata": {},
          "execution_count": 100
        },
        {
          "output_type": "display_data",
          "data": {
            "image/png": "[encoded data removed]",
            "text/plain": [
              "<Figure size 432x288 with 2 Axes>"
            ]
          },
          "metadata": {
            "needs_background": "light"
          }
        }
      ]
    },
    {
      "cell_type": "markdown",
      "source": [
        "#Logistic Regression : Random Under Sampling"
      ],
      "metadata": {
        "id": "6yF9ym83XD0F"
      }
    },
    {
      "cell_type": "code",
      "source": [
        "lr3 = LogisticRegression(max_iter=500)\n",
        "lr3.fit(train_under_x.values, train_under_y.values.ravel())"
      ],
      "metadata": {
        "colab": {
          "base_uri": "https://localhost:8080/"
        },
        "id": "iVayehGvgiQd",
        "outputId": "a8ccab1c-85dc-4f1f-c405-9b186f932e77"
      },
      "execution_count": 34,
      "outputs": [
        {
          "output_type": "execute_result",
          "data": {
            "text/plain": [
              "LogisticRegression(max_iter=500)"
            ]
          },
          "metadata": {},
          "execution_count": 34
        }
      ]
    },
    {
      "cell_type": "code",
      "source": [
        "under_pred_lr = lr3.predict(test_under_x.values)"
      ],
      "metadata": {
        "id": "eSCyCvgNgqMW"
      },
      "execution_count": null,
      "outputs": []
    },
    {
      "cell_type": "code",
      "source": [
        "np.save('under_pred_lr', under_pred_lr)"
      ],
      "metadata": {
        "id": "0ErEPm9lg4l4"
      },
      "execution_count": null,
      "outputs": []
    },
    {
      "cell_type": "code",
      "source": [
        "under_proba_lr = lr3.predict_proba(test_under_x.values)"
      ],
      "metadata": {
        "id": "itRSRm8tZuwH"
      },
      "execution_count": 35,
      "outputs": []
    },
    {
      "cell_type": "code",
      "source": [
        "auc_score9 = roc_auc_score(test_under_y.values, under_proba_lr[:,1])\n",
        "auc_score9"
      ],
      "metadata": {
        "colab": {
          "base_uri": "https://localhost:8080/"
        },
        "outputId": "e5bf0937-1025-4c67-b6a0-a6b7bf6b7553",
        "id": "2tyxqD75xq3a"
      },
      "execution_count": 101,
      "outputs": [
        {
          "output_type": "execute_result",
          "data": {
            "text/plain": [
              "0.7373459604634458"
            ]
          },
          "metadata": {},
          "execution_count": 101
        }
      ]
    },
    {
      "cell_type": "code",
      "source": [
        "fpr9, tpr9, thresh9 = roc_curve(test_under_y.values, under_proba_lr[:,1])"
      ],
      "metadata": {
        "id": "k8SS3lC9xq3b"
      },
      "execution_count": 102,
      "outputs": []
    },
    {
      "cell_type": "code",
      "source": [
        "plt.plot(fpr9, tpr9)\n",
        "plt.title('Logistic Regression - Under Sampling')\n",
        "plt.xlabel('False Positive Rate')\n",
        "plt.ylabel('True Positive rate')\n",
        "plt.show();"
      ],
      "metadata": {
        "colab": {
          "base_uri": "https://localhost:8080/",
          "height": 295
        },
        "outputId": "971e992c-fdf8-4427-de65-12f1474ed2c0",
        "id": "Vi4YA4hexq3c"
      },
      "execution_count": 103,
      "outputs": [
        {
          "output_type": "display_data",
          "data": {
            "image/png": "[encoded data removed]",
            "text/plain": [
              "<Figure size 432x288 with 1 Axes>"
            ]
          },
          "metadata": {
            "needs_background": "light"
          }
        }
      ]
    },
    {
      "cell_type": "code",
      "source": [
        "under_pred_lr = np.load('under_pred_lr.npy')"
      ],
      "metadata": {
        "id": "elNk69cgxq3d"
      },
      "execution_count": 104,
      "outputs": []
    },
    {
      "cell_type": "code",
      "source": [
        "f1_score9 = f1_score(test_under_y.values, under_pred_lr, average=None)\n",
        "f1_score9"
      ],
      "metadata": {
        "colab": {
          "base_uri": "https://localhost:8080/"
        },
        "outputId": "c280189f-5089-4eee-bc1f-b0eb80830088",
        "id": "6IachBGfxq3e"
      },
      "execution_count": 149,
      "outputs": [
        {
          "output_type": "execute_result",
          "data": {
            "text/plain": [
              "array([0.53609656, 0.47423213])"
            ]
          },
          "metadata": {},
          "execution_count": 149
        }
      ]
    },
    {
      "cell_type": "code",
      "source": [
        "under_lr_confusion = confusion_matrix(test_under_y.values, under_pred_lr)\n",
        "sns.heatmap(under_lr_confusion, annot=True, fmt='g')\n",
        "plt.xlabel('Prediction')\n",
        "plt.ylabel('True')\n",
        "plt.plot()"
      ],
      "metadata": {
        "colab": {
          "base_uri": "https://localhost:8080/",
          "height": 296
        },
        "outputId": "883ed543-87e8-4200-fdb0-01176360202f",
        "id": "BCRYYso5xq3g"
      },
      "execution_count": 106,
      "outputs": [
        {
          "output_type": "execute_result",
          "data": {
            "text/plain": [
              "[]"
            ]
          },
          "metadata": {},
          "execution_count": 106
        },
        {
          "output_type": "display_data",
          "data": {
            "image/png": "[encoded data removed]",
            "text/plain": [
              "<Figure size 432x288 with 2 Axes>"
            ]
          },
          "metadata": {
            "needs_background": "light"
          }
        }
      ]
    },
    {
      "cell_type": "markdown",
      "source": [
        "#RandomSearchCV : XGBOOST on SMOTE"
      ],
      "metadata": {
        "id": "TRpPLWiMlUhi"
      }
    },
    {
      "cell_type": "code",
      "source": [
        "from sklearn.model_selection import RandomizedSearchCV\n",
        "import xgboost\n",
        "\n",
        "clfxg = xgboost.XGBClassifier()"
      ],
      "metadata": {
        "id": "ZcPDGgprq8I2"
      },
      "execution_count": null,
      "outputs": []
    },
    {
      "cell_type": "code",
      "source": [
        "param = {'n_estimators': [1000, 1500, 2000],\n",
        "              'learning_rate': [0.01, 0.02, 0.03],\n",
        "              'max_depth': [11, 12, 13],\n",
        "              'colsample_bytree': [0.4, 0.3],\n",
        "             }"
      ],
      "metadata": {
        "id": "8ituBtLgm49Z"
      },
      "execution_count": null,
      "outputs": []
    },
    {
      "cell_type": "code",
      "source": [
        "clf = RandomizedSearchCV(clfxg, param, cv = 3, scoring = 'roc_auc') #using auc as metric because data is balanced\n",
        "clf.fit(train_smote_x.values, train_smote_y.values.ravel())"
      ],
      "metadata": {
        "id": "qH-0S9UHoJz3",
        "colab": {
          "base_uri": "https://localhost:8080/"
        },
        "outputId": "8c30fc9a-432b-48a0-8eb6-d8eac4f5b6eb"
      },
      "execution_count": null,
      "outputs": [
        {
          "output_type": "execute_result",
          "data": {
            "text/plain": [
              "RandomizedSearchCV(cv=3, estimator=XGBClassifier(),\n",
              "                   param_distributions={'colsample_bytree': [0.4, 0.3],\n",
              "                                        'learning_rate': [0.01, 0.02, 0.03],\n",
              "                                        'max_depth': [11, 12, 13],\n",
              "                                        'n_estimators': [1000, 1500, 2000]},\n",
              "                   scoring='roc_auc')"
            ]
          },
          "metadata": {},
          "execution_count": 11
        }
      ]
    },
    {
      "cell_type": "code",
      "source": [
        "clf.best_params_"
      ],
      "metadata": {
        "id": "Gpln6GyIsg6Z",
        "colab": {
          "base_uri": "https://localhost:8080/"
        },
        "outputId": "866a1ec3-e0df-4235-f083-d7c29347be7b"
      },
      "execution_count": null,
      "outputs": [
        {
          "output_type": "execute_result",
          "data": {
            "text/plain": [
              "{'colsample_bytree': 0.4,\n",
              " 'learning_rate': 0.02,\n",
              " 'max_depth': 11,\n",
              " 'n_estimators': 1000}"
            ]
          },
          "metadata": {},
          "execution_count": 12
        }
      ]
    },
    {
      "cell_type": "markdown",
      "source": [
        "#XGBOOST : SMOTE"
      ],
      "metadata": {
        "id": "YgWTUESTtJqx"
      }
    },
    {
      "cell_type": "code",
      "source": [
        "clfy = xgboost.XGBClassifier(\n",
        "            n_estimators=1000,\n",
        "            max_depth=11,\n",
        "            learning_rate=0.02,\n",
        "            colsample_bytree=0.4,\n",
        "            eval_metric='auc', \n",
        "        )                                                                       #using auc as metric because data is balanced"
      ],
      "metadata": {
        "id": "ExfjFVV3tOAg"
      },
      "execution_count": null,
      "outputs": []
    },
    {
      "cell_type": "code",
      "source": [
        "clfy.fit(train_smote_x.values, train_smote_y.values.ravel())"
      ],
      "metadata": {
        "colab": {
          "base_uri": "https://localhost:8080/"
        },
        "id": "x1VQkp4kvRDb",
        "outputId": "daf62944-98dc-4409-8512-f83f0d151f04"
      },
      "execution_count": null,
      "outputs": [
        {
          "output_type": "execute_result",
          "data": {
            "text/plain": [
              "XGBClassifier(colsample_bytree=0.4, eval_metric='auc', learning_rate=0.02,\n",
              "              max_depth=11, n_estimators=1000)"
            ]
          },
          "metadata": {},
          "execution_count": 9
        }
      ]
    },
    {
      "cell_type": "code",
      "source": [
        "result = clfy.predict(test_smote_x.values)"
      ],
      "metadata": {
        "id": "KSK8gTJVvycp"
      },
      "execution_count": null,
      "outputs": []
    },
    {
      "cell_type": "code",
      "source": [
        "np.save('smote_result', result)"
      ],
      "metadata": {
        "id": "kpmjLG2txOac"
      },
      "execution_count": null,
      "outputs": []
    },
    {
      "cell_type": "code",
      "source": [
        "pickle.dump(clfy, open(\"smote_xgboost.dat\", \"wb\"))"
      ],
      "metadata": {
        "id": "2LpIX_5GHYH1"
      },
      "execution_count": null,
      "outputs": []
    },
    {
      "cell_type": "code",
      "source": [
        "smote_xg = pickle.load(open(\"smote_xgboost.dat\", \"rb\"))"
      ],
      "metadata": {
        "id": "0cXevDPUaQx-"
      },
      "execution_count": 37,
      "outputs": []
    },
    {
      "cell_type": "code",
      "source": [
        "smote_proba_xg = smote_xg.predict_proba(test_smote_x.values)"
      ],
      "metadata": {
        "id": "RETSzVflalOb"
      },
      "execution_count": 38,
      "outputs": []
    },
    {
      "cell_type": "code",
      "source": [
        "auc_score10 = roc_auc_score(test_smote_y.values, smote_proba_xg[:,1])\n",
        "auc_score10"
      ],
      "metadata": {
        "colab": {
          "base_uri": "https://localhost:8080/"
        },
        "outputId": "bc6ef3af-1514-406d-89ec-d299dfa6431e",
        "id": "Xus9kWsmytPh"
      },
      "execution_count": 107,
      "outputs": [
        {
          "output_type": "execute_result",
          "data": {
            "text/plain": [
              "0.9994348099419337"
            ]
          },
          "metadata": {},
          "execution_count": 107
        }
      ]
    },
    {
      "cell_type": "code",
      "source": [
        "fpr10, tpr10, thresh10 = roc_curve(test_smote_y.values, smote_proba_xg[:,1])"
      ],
      "metadata": {
        "id": "iCLRm_tGytPi"
      },
      "execution_count": 108,
      "outputs": []
    },
    {
      "cell_type": "code",
      "source": [
        "plt.plot(fpr10, tpr10)\n",
        "plt.title('XGBOOST - SMOTE')\n",
        "plt.xlabel('False Positive Rate')\n",
        "plt.ylabel('True Positive rate')\n",
        "plt.show();"
      ],
      "metadata": {
        "colab": {
          "base_uri": "https://localhost:8080/",
          "height": 295
        },
        "outputId": "217be5de-435c-42ca-b8d7-44bd2d0aca28",
        "id": "iJtofJdGytPi"
      },
      "execution_count": 109,
      "outputs": [
        {
          "output_type": "display_data",
          "data": {
            "image/png": "[encoded data removed]",
            "text/plain": [
              "<Figure size 432x288 with 1 Axes>"
            ]
          },
          "metadata": {
            "needs_background": "light"
          }
        }
      ]
    },
    {
      "cell_type": "code",
      "source": [
        "smote_pred_xg = np.load('smote_result.npy')"
      ],
      "metadata": {
        "id": "PTD_j9t7ytPj"
      },
      "execution_count": 110,
      "outputs": []
    },
    {
      "cell_type": "code",
      "source": [
        "f1_score10 = f1_score(test_smote_y.values, smote_pred_xg, average=None)\n",
        "f1_score10"
      ],
      "metadata": {
        "colab": {
          "base_uri": "https://localhost:8080/"
        },
        "outputId": "d0ab10cb-0820-4ae0-b3a3-697340566e93",
        "id": "WqfwuzGFytPj"
      },
      "execution_count": 148,
      "outputs": [
        {
          "output_type": "execute_result",
          "data": {
            "text/plain": [
              "array([0.503035  , 0.49555504])"
            ]
          },
          "metadata": {},
          "execution_count": 148
        }
      ]
    },
    {
      "cell_type": "code",
      "source": [
        "smote_xg_confusion = confusion_matrix(test_smote_y.values, smote_pred_xg)\n",
        "sns.heatmap(smote_xg_confusion, annot=True, fmt='g')\n",
        "plt.xlabel('Prediction')\n",
        "plt.ylabel('True')\n",
        "plt.plot()"
      ],
      "metadata": {
        "colab": {
          "base_uri": "https://localhost:8080/",
          "height": 296
        },
        "outputId": "baf6093b-fdfb-4b78-bdc7-c108c549dd23",
        "id": "QkQfMdaLytPk"
      },
      "execution_count": 112,
      "outputs": [
        {
          "output_type": "execute_result",
          "data": {
            "text/plain": [
              "[]"
            ]
          },
          "metadata": {},
          "execution_count": 112
        },
        {
          "output_type": "display_data",
          "data": {
            "image/png": "[encoded data removed]",
            "text/plain": [
              "<Figure size 432x288 with 2 Axes>"
            ]
          },
          "metadata": {
            "needs_background": "light"
          }
        }
      ]
    },
    {
      "cell_type": "markdown",
      "source": [
        "#XGBOOST: Random Over Sampling"
      ],
      "metadata": {
        "id": "jrGEqjNYXeQi"
      }
    },
    {
      "cell_type": "code",
      "source": [
        "clfy2 = xgboost.XGBClassifier(\n",
        "            n_estimators=1000,\n",
        "            max_depth=11,\n",
        "            learning_rate=0.02,\n",
        "            colsample_bytree=0.4,\n",
        "            eval_metric='auc', \n",
        "        )        "
      ],
      "metadata": {
        "id": "FWk0cukfzFIs"
      },
      "execution_count": null,
      "outputs": []
    },
    {
      "cell_type": "code",
      "source": [
        "clfy2.fit(train_over_x.values, train_over_y.values.ravel())"
      ],
      "metadata": {
        "colab": {
          "base_uri": "https://localhost:8080/"
        },
        "id": "6nV9pdLcyM9i",
        "outputId": "5ace68cd-1432-4929-c2cd-55a3c4ec221c"
      },
      "execution_count": null,
      "outputs": [
        {
          "output_type": "execute_result",
          "data": {
            "text/plain": [
              "XGBClassifier(colsample_bytree=0.4, eval_metric='auc', learning_rate=0.02,\n",
              "              max_depth=11, n_estimators=1000)"
            ]
          },
          "metadata": {},
          "execution_count": 9
        }
      ]
    },
    {
      "cell_type": "code",
      "source": [
        "result2 = clfy2.predict(test_over_x.values)"
      ],
      "metadata": {
        "id": "Cw7S6okTzmqv"
      },
      "execution_count": null,
      "outputs": []
    },
    {
      "cell_type": "code",
      "source": [
        "np.save('over_result', result2)"
      ],
      "metadata": {
        "id": "h5bFu8nQzb9M"
      },
      "execution_count": null,
      "outputs": []
    },
    {
      "cell_type": "code",
      "source": [
        "pickle.dump(clfy2, open(\"over_xgboost.dat\", \"wb\"))"
      ],
      "metadata": {
        "id": "F6YPuLVQ36d5"
      },
      "execution_count": null,
      "outputs": []
    },
    {
      "cell_type": "code",
      "source": [
        "over_xg = pickle.load(open(\"over_xgboost.dat\", \"rb\"))"
      ],
      "metadata": {
        "id": "2EQP2wGMbJji"
      },
      "execution_count": 39,
      "outputs": []
    },
    {
      "cell_type": "code",
      "source": [
        "over_proba_xg = over_xg.predict_proba(test_over_x.values)"
      ],
      "metadata": {
        "id": "-sT_Y4d8bJjk"
      },
      "execution_count": 40,
      "outputs": []
    },
    {
      "cell_type": "code",
      "source": [
        "auc_score11 = roc_auc_score(test_over_y.values, over_proba_xg[:,1])\n",
        "auc_score11"
      ],
      "metadata": {
        "colab": {
          "base_uri": "https://localhost:8080/"
        },
        "outputId": "f29dcf85-cee8-4f91-c519-fc57e847fc7d",
        "id": "rJk_VVLw0B3p"
      },
      "execution_count": 113,
      "outputs": [
        {
          "output_type": "execute_result",
          "data": {
            "text/plain": [
              "0.9984755895445753"
            ]
          },
          "metadata": {},
          "execution_count": 113
        }
      ]
    },
    {
      "cell_type": "code",
      "source": [
        "fpr11, tpr11, thresh11 = roc_curve(test_over_y.values, over_proba_xg[:,1])"
      ],
      "metadata": {
        "id": "Rc5zUPRn0B3q"
      },
      "execution_count": 114,
      "outputs": []
    },
    {
      "cell_type": "code",
      "source": [
        "plt.plot(fpr11, tpr11)\n",
        "plt.title('XGBOOST - Over Sampling')\n",
        "plt.xlabel('False Positive Rate')\n",
        "plt.ylabel('True Positive rate')\n",
        "plt.show();"
      ],
      "metadata": {
        "colab": {
          "base_uri": "https://localhost:8080/",
          "height": 295
        },
        "outputId": "becb2600-24d1-4723-dffa-ea0982c2ac93",
        "id": "AIR5hPL90B3r"
      },
      "execution_count": 115,
      "outputs": [
        {
          "output_type": "display_data",
          "data": {
            "image/png": "[encoded data removed]",
            "text/plain": [
              "<Figure size 432x288 with 1 Axes>"
            ]
          },
          "metadata": {
            "needs_background": "light"
          }
        }
      ]
    },
    {
      "cell_type": "code",
      "source": [
        "over_pred_xg = np.load('over_result.npy')"
      ],
      "metadata": {
        "id": "EjKc5kmO0B3r"
      },
      "execution_count": 116,
      "outputs": []
    },
    {
      "cell_type": "code",
      "source": [
        "f1_score11 = f1_score(test_over_y.values, over_pred_xg, average=None)\n",
        "f1_score11"
      ],
      "metadata": {
        "colab": {
          "base_uri": "https://localhost:8080/"
        },
        "outputId": "fd3ac79e-fb11-4e39-af09-830cbbc7e2d3",
        "id": "wpOweyUM0B3s"
      },
      "execution_count": 147,
      "outputs": [
        {
          "output_type": "execute_result",
          "data": {
            "text/plain": [
              "array([0.49800701, 0.50014884])"
            ]
          },
          "metadata": {},
          "execution_count": 147
        }
      ]
    },
    {
      "cell_type": "code",
      "source": [
        "over_xg_confusion = confusion_matrix(test_over_y.values, over_pred_xg)\n",
        "sns.heatmap(over_xg_confusion, annot=True, fmt='g')\n",
        "plt.xlabel('Prediction')\n",
        "plt.ylabel('True')\n",
        "plt.plot()"
      ],
      "metadata": {
        "colab": {
          "base_uri": "https://localhost:8080/",
          "height": 296
        },
        "outputId": "d7ee3403-7521-48de-cf35-27538b635e48",
        "id": "Xb-mJbF40B3s"
      },
      "execution_count": 118,
      "outputs": [
        {
          "output_type": "execute_result",
          "data": {
            "text/plain": [
              "[]"
            ]
          },
          "metadata": {},
          "execution_count": 118
        },
        {
          "output_type": "display_data",
          "data": {
            "image/png": "[encoded data removed]",
            "text/plain": [
              "<Figure size 432x288 with 2 Axes>"
            ]
          },
          "metadata": {
            "needs_background": "light"
          }
        }
      ]
    },
    {
      "cell_type": "markdown",
      "source": [
        "#XGBOOST: Random Under Sampling"
      ],
      "metadata": {
        "id": "q1bM-a7rXlrD"
      }
    },
    {
      "cell_type": "code",
      "source": [
        "clfy3 = xgboost.XGBClassifier(\n",
        "            n_estimators=1000,\n",
        "            max_depth=11,\n",
        "            learning_rate=0.02,\n",
        "            colsample_bytree=0.4,\n",
        "            eval_metric='auc', \n",
        "        )        "
      ],
      "metadata": {
        "id": "E_KyXOmf0VMu"
      },
      "execution_count": null,
      "outputs": []
    },
    {
      "cell_type": "code",
      "source": [
        "clfy3.fit(train_under_x.values, train_under_y.values.ravel())"
      ],
      "metadata": {
        "colab": {
          "base_uri": "https://localhost:8080/"
        },
        "id": "vmj64xaO0ZPR",
        "outputId": "17b8b2c3-63e8-4f66-af1f-a10319715c7d"
      },
      "execution_count": null,
      "outputs": [
        {
          "output_type": "execute_result",
          "data": {
            "text/plain": [
              "XGBClassifier(colsample_bytree=0.4, eval_metric='auc', learning_rate=0.02,\n",
              "              max_depth=11, n_estimators=1000)"
            ]
          },
          "metadata": {},
          "execution_count": 15
        }
      ]
    },
    {
      "cell_type": "code",
      "source": [
        "result3 = clfy3.predict(test_under_x.values)"
      ],
      "metadata": {
        "id": "s_6nKlfK0-ec"
      },
      "execution_count": null,
      "outputs": []
    },
    {
      "cell_type": "code",
      "source": [
        "np.save('under_result', result3)"
      ],
      "metadata": {
        "id": "ieP4LfwShX1T"
      },
      "execution_count": null,
      "outputs": []
    },
    {
      "cell_type": "code",
      "source": [
        "pickle.dump(clfy3, open(\"under_xgboost.dat\", \"wb\"))"
      ],
      "metadata": {
        "id": "NKvv2dUB4Ts-"
      },
      "execution_count": null,
      "outputs": []
    },
    {
      "cell_type": "code",
      "source": [
        "under_xg = pickle.load(open(\"under_xgboost.dat\", \"rb\"))"
      ],
      "metadata": {
        "id": "XpX7kd29bfgk"
      },
      "execution_count": 41,
      "outputs": []
    },
    {
      "cell_type": "code",
      "source": [
        "under_proba_xg = under_xg.predict_proba(test_under_x.values)"
      ],
      "metadata": {
        "id": "rx6FTfO8bfgl"
      },
      "execution_count": 42,
      "outputs": []
    },
    {
      "cell_type": "code",
      "source": [
        "auc_score12 = roc_auc_score(test_under_y.values, under_proba_xg[:,1])\n",
        "auc_score12"
      ],
      "metadata": {
        "colab": {
          "base_uri": "https://localhost:8080/"
        },
        "outputId": "86d1d71c-18e6-41ec-c2b3-12c6ef6628b6",
        "id": "JgujsFmj06kr"
      },
      "execution_count": 119,
      "outputs": [
        {
          "output_type": "execute_result",
          "data": {
            "text/plain": [
              "0.99081870751486"
            ]
          },
          "metadata": {},
          "execution_count": 119
        }
      ]
    },
    {
      "cell_type": "code",
      "source": [
        "fpr12, tpr12, thresh12 = roc_curve(test_under_y.values, under_proba_xg[:,1])"
      ],
      "metadata": {
        "id": "4jEStnpz06kt"
      },
      "execution_count": 120,
      "outputs": []
    },
    {
      "cell_type": "code",
      "source": [
        "plt.plot(fpr12, tpr12)\n",
        "plt.title('XGBOOST - Under Sampling')\n",
        "plt.xlabel('False Positive Rate')\n",
        "plt.ylabel('True Positive rate')\n",
        "plt.show();"
      ],
      "metadata": {
        "colab": {
          "base_uri": "https://localhost:8080/",
          "height": 295
        },
        "outputId": "f67c3e07-f11f-4dcf-8b11-f0bf949b0cbc",
        "id": "T3DII3Lv06kt"
      },
      "execution_count": 121,
      "outputs": [
        {
          "output_type": "display_data",
          "data": {
            "image/png": "[encoded data removed]",
            "text/plain": [
              "<Figure size 432x288 with 1 Axes>"
            ]
          },
          "metadata": {
            "needs_background": "light"
          }
        }
      ]
    },
    {
      "cell_type": "code",
      "source": [
        "under_pred_xg = np.load('under_result.npy')"
      ],
      "metadata": {
        "id": "_6Rx00qu06ku"
      },
      "execution_count": 122,
      "outputs": []
    },
    {
      "cell_type": "code",
      "source": [
        "f1_score12 = f1_score(test_under_y.values, under_pred_xg, average=None)\n",
        "f1_score12"
      ],
      "metadata": {
        "colab": {
          "base_uri": "https://localhost:8080/"
        },
        "outputId": "ac070813-08e5-4e46-ea20-f8b8f29520b6",
        "id": "r3SN8T4t06ku"
      },
      "execution_count": 146,
      "outputs": [
        {
          "output_type": "execute_result",
          "data": {
            "text/plain": [
              "array([0.511277 , 0.4957391])"
            ]
          },
          "metadata": {},
          "execution_count": 146
        }
      ]
    },
    {
      "cell_type": "code",
      "source": [
        "under_xg_confusion = confusion_matrix(test_under_y.values, under_pred_xg)\n",
        "sns.heatmap(under_xg_confusion, annot=True, fmt='g')\n",
        "plt.xlabel('Prediction')\n",
        "plt.ylabel('True')\n",
        "plt.plot()"
      ],
      "metadata": {
        "colab": {
          "base_uri": "https://localhost:8080/",
          "height": 296
        },
        "outputId": "44ff9209-1c70-4599-8e24-ae0402f82e00",
        "id": "_W3NkHQI06kv"
      },
      "execution_count": 125,
      "outputs": [
        {
          "output_type": "execute_result",
          "data": {
            "text/plain": [
              "[]"
            ]
          },
          "metadata": {},
          "execution_count": 125
        },
        {
          "output_type": "display_data",
          "data": {
            "image/png": "[encoded data removed]",
            "text/plain": [
              "<Figure size 432x288 with 2 Axes>"
            ]
          },
          "metadata": {
            "needs_background": "light"
          }
        }
      ]
    },
    {
      "cell_type": "markdown",
      "source": [
        "#No sampling: XGBOOST"
      ],
      "metadata": {
        "id": "kPXSsAyQzr4y"
      }
    },
    {
      "cell_type": "code",
      "source": [
        "import xgboost \n",
        "clxgb = xgboost.XGBClassifier(\n",
        "            n_estimators=1000,\n",
        "            max_depth=11,\n",
        "            learning_rate=0.02,\n",
        "            colsample_bytree=0.4,\n",
        "            eval_metric='auc', \n",
        "        )        "
      ],
      "metadata": {
        "id": "ol3AccyVzwmF"
      },
      "execution_count": null,
      "outputs": []
    },
    {
      "cell_type": "code",
      "source": [
        "train = pd.read_csv('pre_bal_train2.csv')"
      ],
      "metadata": {
        "id": "5JlvNdHxz-u_"
      },
      "execution_count": 127,
      "outputs": []
    },
    {
      "cell_type": "code",
      "execution_count": 128,
      "metadata": {
        "id": "oFc0R6IgyYIO"
      },
      "outputs": [],
      "source": [
        "cols_l = train.columns\n",
        "cols_l = cols_l.to_list()"
      ]
    },
    {
      "cell_type": "code",
      "execution_count": 129,
      "metadata": {
        "id": "kmgsG-O9ylyX"
      },
      "outputs": [],
      "source": [
        "cols_l.remove('isFraud')\n",
        "cols_l.remove('uid')"
      ]
    },
    {
      "cell_type": "code",
      "source": [
        "percent_missing = train.isnull().sum() * 100 / len(train)                        #calculating percentage missing values in columns and then making a dataframe from it\n",
        "missing_value_df = pd.DataFrame({'column_name': train.columns,\n",
        "                                 'percent_missing': percent_missing})"
      ],
      "metadata": {
        "id": "xW3k0saEk9d-"
      },
      "execution_count": 130,
      "outputs": []
    },
    {
      "cell_type": "code",
      "source": [
        "missing_value_df.sort_values('percent_missing', ascending=False, inplace=True)"
      ],
      "metadata": {
        "id": "GlJk_WWFlLFU"
      },
      "execution_count": 131,
      "outputs": []
    },
    {
      "cell_type": "code",
      "source": [
        "missing_value_df[:15]    #missing values in all the standard deviation calculated features"
      ],
      "metadata": {
        "colab": {
          "base_uri": "https://localhost:8080/",
          "height": 520
        },
        "id": "SgYQl1JglM3F",
        "outputId": "549c6023-78b7-460c-bcce-472cf875f471"
      },
      "execution_count": 132,
      "outputs": [
        {
          "output_type": "execute_result",
          "data": {
            "text/html": [
              "\n",
              "  <div id=\"df-6246d4b5-2503-4d24-b7b6-af9ea829b915\">\n",
              "    <div class=\"colab-df-container\">\n",
              "      <div>\n",
              "<style scoped>\n",
              "    .dataframe tbody tr th:only-of-type {\n",
              "        vertical-align: middle;\n",
              "    }\n",
              "\n",
              "    .dataframe tbody tr th {\n",
              "        vertical-align: top;\n",
              "    }\n",
              "\n",
              "    .dataframe thead th {\n",
              "        text-align: right;\n",
              "    }\n",
              "</style>\n",
              "<table border=\"1\" class=\"dataframe\">\n",
              "  <thead>\n",
              "    <tr style=\"text-align: right;\">\n",
              "      <th></th>\n",
              "      <th>column_name</th>\n",
              "      <th>percent_missing</th>\n",
              "    </tr>\n",
              "  </thead>\n",
              "  <tbody>\n",
              "    <tr>\n",
              "      <th>C14std</th>\n",
              "      <td>C14std</td>\n",
              "      <td>0.001693</td>\n",
              "    </tr>\n",
              "    <tr>\n",
              "      <th>V318std</th>\n",
              "      <td>V318std</td>\n",
              "      <td>0.001693</td>\n",
              "    </tr>\n",
              "    <tr>\n",
              "      <th>V45std</th>\n",
              "      <td>V45std</td>\n",
              "      <td>0.001693</td>\n",
              "    </tr>\n",
              "    <tr>\n",
              "      <th>C13std</th>\n",
              "      <td>C13std</td>\n",
              "      <td>0.001693</td>\n",
              "    </tr>\n",
              "    <tr>\n",
              "      <th>C1std</th>\n",
              "      <td>C1std</td>\n",
              "      <td>0.001693</td>\n",
              "    </tr>\n",
              "    <tr>\n",
              "      <th>V40std</th>\n",
              "      <td>V40std</td>\n",
              "      <td>0.001693</td>\n",
              "    </tr>\n",
              "    <tr>\n",
              "      <th>C7std</th>\n",
              "      <td>C7std</td>\n",
              "      <td>0.001693</td>\n",
              "    </tr>\n",
              "    <tr>\n",
              "      <th>V79std</th>\n",
              "      <td>V79std</td>\n",
              "      <td>0.001693</td>\n",
              "    </tr>\n",
              "    <tr>\n",
              "      <th>C2std</th>\n",
              "      <td>C2std</td>\n",
              "      <td>0.001693</td>\n",
              "    </tr>\n",
              "    <tr>\n",
              "      <th>V317std</th>\n",
              "      <td>V317std</td>\n",
              "      <td>0.001693</td>\n",
              "    </tr>\n",
              "    <tr>\n",
              "      <th>V113</th>\n",
              "      <td>V113</td>\n",
              "      <td>0.000000</td>\n",
              "    </tr>\n",
              "    <tr>\n",
              "      <th>V136</th>\n",
              "      <td>V136</td>\n",
              "      <td>0.000000</td>\n",
              "    </tr>\n",
              "    <tr>\n",
              "      <th>V137</th>\n",
              "      <td>V137</td>\n",
              "      <td>0.000000</td>\n",
              "    </tr>\n",
              "    <tr>\n",
              "      <th>V114</th>\n",
              "      <td>V114</td>\n",
              "      <td>0.000000</td>\n",
              "    </tr>\n",
              "    <tr>\n",
              "      <th>V108</th>\n",
              "      <td>V108</td>\n",
              "      <td>0.000000</td>\n",
              "    </tr>\n",
              "  </tbody>\n",
              "</table>\n",
              "</div>\n",
              "      <button class=\"colab-df-convert\" onclick=\"convertToInteractive('df-6246d4b5-2503-4d24-b7b6-af9ea829b915')\"\n",
              "              title=\"Convert this dataframe to an interactive table.\"\n",
              "              style=\"display:none;\">\n",
              "        \n",
              "  <svg xmlns=\"http://www.w3.org/2000/svg\" height=\"24px\"viewBox=\"0 0 24 24\"\n",
              "       width=\"24px\">\n",
              "    <path d=\"M0 0h24v24H0V0z\" fill=\"none\"/>\n",
              "    <path d=\"M18.56 5.44l.94 2.06.94-2.06 2.06-.94-2.06-.94-.94-2.06-.94 2.06-2.06.94zm-11 1L8.5 8.5l.94-2.06 2.06-.94-2.06-.94L8.5 2.5l-.94 2.06-2.06.94zm10 10l.94 2.06.94-2.06 2.06-.94-2.06-.94-.94-2.06-.94 2.06-2.06.94z\"/><path d=\"M17.41 7.96l-1.37-1.37c-.4-.4-.92-.59-1.43-.59-.52 0-1.04.2-1.43.59L10.3 9.45l-7.72 7.72c-.78.78-.78 2.05 0 2.83L4 21.41c.39.39.9.59 1.41.59.51 0 1.02-.2 1.41-.59l7.78-7.78 2.81-2.81c.8-.78.8-2.07 0-2.86zM5.41 20L4 18.59l7.72-7.72 1.47 1.35L5.41 20z\"/>\n",
              "  </svg>\n",
              "      </button>\n",
              "      \n",
              "  <style>\n",
              "    .colab-df-container {\n",
              "      display:flex;\n",
              "      flex-wrap:wrap;\n",
              "      gap: 12px;\n",
              "    }\n",
              "\n",
              "    .colab-df-convert {\n",
              "      background-color: #E8F0FE;\n",
              "      border: none;\n",
              "      border-radius: 50%;\n",
              "      cursor: pointer;\n",
              "      display: none;\n",
              "      fill: #1967D2;\n",
              "      height: 32px;\n",
              "      padding: 0 0 0 0;\n",
              "      width: 32px;\n",
              "    }\n",
              "\n",
              "    .colab-df-convert:hover {\n",
              "      background-color: #E2EBFA;\n",
              "      box-shadow: 0px 1px 2px rgba(60, 64, 67, 0.3), 0px 1px 3px 1px rgba(60, 64, 67, 0.15);\n",
              "      fill: #174EA6;\n",
              "    }\n",
              "\n",
              "    [theme=dark] .colab-df-convert {\n",
              "      background-color: #3B4455;\n",
              "      fill: #D2E3FC;\n",
              "    }\n",
              "\n",
              "    [theme=dark] .colab-df-convert:hover {\n",
              "      background-color: #434B5C;\n",
              "      box-shadow: 0px 1px 3px 1px rgba(0, 0, 0, 0.15);\n",
              "      filter: drop-shadow(0px 1px 2px rgba(0, 0, 0, 0.3));\n",
              "      fill: #FFFFFF;\n",
              "    }\n",
              "  </style>\n",
              "\n",
              "      <script>\n",
              "        const buttonEl =\n",
              "          document.querySelector('#df-6246d4b5-2503-4d24-b7b6-af9ea829b915 button.colab-df-convert');\n",
              "        buttonEl.style.display =\n",
              "          google.colab.kernel.accessAllowed ? 'block' : 'none';\n",
              "\n",
              "        async function convertToInteractive(key) {\n",
              "          const element = document.querySelector('#df-6246d4b5-2503-4d24-b7b6-af9ea829b915');\n",
              "          const dataTable =\n",
              "            await google.colab.kernel.invokeFunction('convertToInteractive',\n",
              "                                                     [key], {});\n",
              "          if (!dataTable) return;\n",
              "\n",
              "          const docLinkHtml = 'Like what you see? Visit the ' +\n",
              "            '<a target=\"_blank\" href=https://colab.research.google.com/notebooks/data_table.ipynb>data table notebook</a>'\n",
              "            + ' to learn more about interactive tables.';\n",
              "          element.innerHTML = '';\n",
              "          dataTable['output_type'] = 'display_data';\n",
              "          await google.colab.output.renderOutput(dataTable, element);\n",
              "          const docLink = document.createElement('div');\n",
              "          docLink.innerHTML = docLinkHtml;\n",
              "          element.appendChild(docLink);\n",
              "        }\n",
              "      </script>\n",
              "    </div>\n",
              "  </div>\n",
              "  "
            ],
            "text/plain": [
              "        column_name  percent_missing\n",
              "C14std       C14std         0.001693\n",
              "V318std     V318std         0.001693\n",
              "V45std       V45std         0.001693\n",
              "C13std       C13std         0.001693\n",
              "C1std         C1std         0.001693\n",
              "V40std       V40std         0.001693\n",
              "C7std         C7std         0.001693\n",
              "V79std       V79std         0.001693\n",
              "C2std         C2std         0.001693\n",
              "V317std     V317std         0.001693\n",
              "V113           V113         0.000000\n",
              "V136           V136         0.000000\n",
              "V137           V137         0.000000\n",
              "V114           V114         0.000000\n",
              "V108           V108         0.000000"
            ]
          },
          "metadata": {},
          "execution_count": 132
        }
      ]
    },
    {
      "cell_type": "code",
      "source": [
        "rev = []\n",
        "for yt in range(len(missing_value_df)):\n",
        "     if missing_value_df['percent_missing'][yt] != 0:\n",
        "        rev.append(missing_value_df['column_name'][yt])"
      ],
      "metadata": {
        "id": "9DPIvh2Zl7QM"
      },
      "execution_count": 133,
      "outputs": []
    },
    {
      "cell_type": "code",
      "source": [
        "cols_l = list(set(cols_l) - set(rev))         #removing columns containing missing values"
      ],
      "metadata": {
        "id": "VOOp52EUm3-k"
      },
      "execution_count": 134,
      "outputs": []
    },
    {
      "cell_type": "code",
      "source": [
        "trai = train[cols_l].astype(float)"
      ],
      "metadata": {
        "id": "jUCv35bm2q9g"
      },
      "execution_count": 135,
      "outputs": []
    },
    {
      "cell_type": "code",
      "execution_count": 136,
      "metadata": {
        "id": "6XirW43W0mr3"
      },
      "outputs": [],
      "source": [
        "from sklearn.model_selection import train_test_split"
      ]
    },
    {
      "cell_type": "code",
      "execution_count": 137,
      "metadata": {
        "id": "Tc1WH1-y0mr4"
      },
      "outputs": [],
      "source": [
        "tr_x, te_x, tr_y, te_y = train_test_split(trai, train['isFraud'], test_size=0.3)"
      ]
    },
    {
      "cell_type": "code",
      "source": [
        "clxgb.fit(tr_x.values, tr_y.values.ravel())"
      ],
      "metadata": {
        "colab": {
          "base_uri": "https://localhost:8080/"
        },
        "id": "_gSib5kP1G5g",
        "outputId": "25818506-7b13-4824-d02a-78254b57faed"
      },
      "execution_count": null,
      "outputs": [
        {
          "output_type": "execute_result",
          "data": {
            "text/plain": [
              "XGBClassifier(colsample_bytree=0.4, eval_metric='auc', learning_rate=0.02,\n",
              "              max_depth=11, n_estimators=1000)"
            ]
          },
          "metadata": {},
          "execution_count": 17
        }
      ]
    },
    {
      "cell_type": "code",
      "source": [
        "pickle.dump(clxgb, open(\"no_smote_xgboost.dat\", \"wb\"))"
      ],
      "metadata": {
        "id": "thTfx0XV6XYa"
      },
      "execution_count": null,
      "outputs": []
    },
    {
      "cell_type": "code",
      "source": [
        "loaded_model = pickle.load(open(\"no_smote_xgboost.dat\", 'rb'))"
      ],
      "metadata": {
        "id": "so9s53y33v61"
      },
      "execution_count": 126,
      "outputs": []
    },
    {
      "cell_type": "code",
      "source": [
        "result4 = loaded_model.predict(te_x.values)"
      ],
      "metadata": {
        "id": "mOs3DKVZ6XYO"
      },
      "execution_count": null,
      "outputs": []
    },
    {
      "cell_type": "code",
      "source": [
        "np.save('no_smote_xg', result4)"
      ],
      "metadata": {
        "id": "7n9-TXJs6i4-"
      },
      "execution_count": null,
      "outputs": []
    },
    {
      "cell_type": "code",
      "source": [
        "no_smote_proba_xg = loaded_model.predict_proba(te_x.values)"
      ],
      "metadata": {
        "id": "E3KnSaqT4OkF"
      },
      "execution_count": 138,
      "outputs": []
    },
    {
      "cell_type": "code",
      "source": [
        "auc_score13 = roc_auc_score(te_y.values, no_smote_proba_xg[:,1])\n",
        "auc_score13"
      ],
      "metadata": {
        "colab": {
          "base_uri": "https://localhost:8080/"
        },
        "outputId": "7560e3d7-75e7-47dd-83f3-4af7089d91b4",
        "id": "PNfA42my4OkG"
      },
      "execution_count": 139,
      "outputs": [
        {
          "output_type": "execute_result",
          "data": {
            "text/plain": [
              "0.5820752682769319"
            ]
          },
          "metadata": {},
          "execution_count": 139
        }
      ]
    },
    {
      "cell_type": "code",
      "source": [
        "fpr13, tpr13, thresh13 = roc_curve(te_y.values, no_smote_proba_xg[:,1])"
      ],
      "metadata": {
        "id": "UJZKS7FG4OkG"
      },
      "execution_count": 140,
      "outputs": []
    },
    {
      "cell_type": "code",
      "source": [
        "plt.plot(fpr13, tpr13)\n",
        "plt.title('XGBOOST - No Sampling')\n",
        "plt.xlabel('False Positive Rate')\n",
        "plt.ylabel('True Positive rate')\n",
        "plt.show();"
      ],
      "metadata": {
        "colab": {
          "base_uri": "https://localhost:8080/",
          "height": 295
        },
        "outputId": "1a09e998-ef53-4e3a-d087-7cadbe5562d3",
        "id": "gI1vAATF4OkH"
      },
      "execution_count": 141,
      "outputs": [
        {
          "output_type": "display_data",
          "data": {
            "image/png": "[encoded data removed]",
            "text/plain": [
              "<Figure size 432x288 with 1 Axes>"
            ]
          },
          "metadata": {
            "needs_background": "light"
          }
        }
      ]
    },
    {
      "cell_type": "code",
      "source": [
        "no_smote_pred_xg = np.load('no_smote_xg.npy')"
      ],
      "metadata": {
        "id": "DbnHvw_o4OkH"
      },
      "execution_count": 142,
      "outputs": []
    },
    {
      "cell_type": "code",
      "source": [
        "f1_score13 = f1_score(te_y.values, no_smote_pred_xg, average=None)\n",
        "f1_score13"
      ],
      "metadata": {
        "colab": {
          "base_uri": "https://localhost:8080/"
        },
        "outputId": "e075a979-fc95-47ef-f434-a7e7d2967e20",
        "id": "JxooIXmA4OkH"
      },
      "execution_count": 145,
      "outputs": [
        {
          "output_type": "execute_result",
          "data": {
            "text/plain": [
              "array([0.96866889, 0.02713704])"
            ]
          },
          "metadata": {},
          "execution_count": 145
        }
      ]
    },
    {
      "cell_type": "code",
      "source": [
        "no_smote_xg_confusion = confusion_matrix(te_y.values, no_smote_pred_xg)\n",
        "sns.heatmap(no_smote_xg_confusion, annot=True, fmt='g')\n",
        "plt.xlabel('Prediction')\n",
        "plt.ylabel('True')\n",
        "plt.plot()"
      ],
      "metadata": {
        "colab": {
          "base_uri": "https://localhost:8080/",
          "height": 296
        },
        "outputId": "a5fa3c06-8bd5-47c1-c34f-3305c34889b2",
        "id": "vnKq4MiB4OkI"
      },
      "execution_count": 144,
      "outputs": [
        {
          "output_type": "execute_result",
          "data": {
            "text/plain": [
              "[]"
            ]
          },
          "metadata": {},
          "execution_count": 144
        },
        {
          "output_type": "display_data",
          "data": {
            "image/png": "[encoded data removed]",
            "text/plain": [
              "<Figure size 432x288 with 2 Axes>"
            ]
          },
          "metadata": {
            "needs_background": "light"
          }
        }
      ]
    },
    {
      "cell_type": "markdown",
      "source": [
        "# Cumulative results"
      ],
      "metadata": {
        "id": "y68A8pt4_Hkp"
      }
    },
    {
      "cell_type": "code",
      "source": [
        "result_table = pt(['Model Name', 'isNotFraud - F1 score', 'isFraud - F1 score'])"
      ],
      "metadata": {
        "id": "ICCXstx6_Nhm"
      },
      "execution_count": 177,
      "outputs": []
    },
    {
      "cell_type": "code",
      "source": [
        "result_table.add_row(['KNN - SMOTE', round(f1_score1[0], ndigits=3), round(f1_score1[1], ndigits=3)])\n",
        "result_table.add_row(['KNN - Over Sampling', round(f1_score2[0], ndigits=3), round(f1_score2[1], ndigits=3)])\n",
        "result_table.add_row(['KNN - Under Sampling', round(f1_score3[0], ndigits=3), round(f1_score3[1], ndigits=3)])"
      ],
      "metadata": {
        "id": "AkipIwTmBV8c"
      },
      "execution_count": 178,
      "outputs": []
    },
    {
      "cell_type": "code",
      "source": [
        "result_table.add_row(['GNB - SMOTE', round(f1_score4[0], ndigits=3), round(f1_score4[1], ndigits=3)])\n",
        "result_table.add_row(['GNB - Over Sampling', round(f1_score5[0], ndigits=3), round(f1_score5[1], ndigits=3)])\n",
        "result_table.add_row(['GNB - Under Sampling', round(f1_score6[0], ndigits=3), round(f1_score6[1], ndigits=3)])"
      ],
      "metadata": {
        "id": "9Y6ifv1YDKsf"
      },
      "execution_count": 179,
      "outputs": []
    },
    {
      "cell_type": "code",
      "source": [
        "result_table.add_row(['LR - SMOTE', round(f1_score7[0], ndigits=3), round(f1_score7[1], ndigits=3)])\n",
        "result_table.add_row(['LR - Over Sampling', round(f1_score8[0], ndigits=3), round(f1_score8[1], ndigits=3)])\n",
        "result_table.add_row(['LR - Under Sampling', round(f1_score9[0], ndigits=3), round(f1_score9[1], ndigits=3)])"
      ],
      "metadata": {
        "id": "MXyki7y0DuGH"
      },
      "execution_count": 180,
      "outputs": []
    },
    {
      "cell_type": "code",
      "source": [
        "result_table.add_row(['XGBOOST - SMOTE', round(f1_score10[0], ndigits=3), round(f1_score10[1], ndigits=3)])\n",
        "result_table.add_row(['XGBOOST - Over Sampling', round(f1_score11[0], ndigits=3), round(f1_score11[1], ndigits=3)])\n",
        "result_table.add_row(['XGBOOST - Under Sampling', round(f1_score12[0], ndigits=3), round(f1_score12[1], ndigits=3)])"
      ],
      "metadata": {
        "id": "xlxklycFD8Hd"
      },
      "execution_count": 181,
      "outputs": []
    },
    {
      "cell_type": "code",
      "source": [
        "result_table.add_row(['XGBOOST - No Sampling', round(f1_score13[0], ndigits=3), round(f1_score13[1], ndigits=3)])"
      ],
      "metadata": {
        "id": "dOEEgeK7EMgF"
      },
      "execution_count": 182,
      "outputs": []
    },
    {
      "cell_type": "code",
      "source": [
        "print(result_table)"
      ],
      "metadata": {
        "colab": {
          "base_uri": "https://localhost:8080/"
        },
        "id": "UAIJByzdCNLr",
        "outputId": "1ca21618-465e-421c-bcb0-294c2b297354"
      },
      "execution_count": 183,
      "outputs": [
        {
          "output_type": "stream",
          "name": "stdout",
          "text": [
            "+--------------------------+-----------------------+--------------------+\n",
            "|        Model Name        | isNotFraud - F1 score | isFraud - F1 score |\n",
            "+--------------------------+-----------------------+--------------------+\n",
            "|       KNN - SMOTE        |         0.477         |        0.52        |\n",
            "|   KNN - Over Sampling    |         0.482         |       0.516        |\n",
            "|   KNN - Under Sampling   |         0.513         |       0.496        |\n",
            "|       GNB - SMOTE        |         0.165         |       0.643        |\n",
            "|   GNB - Over Sampling    |         0.166         |       0.644        |\n",
            "|   GNB - Under Sampling   |         0.162         |       0.641        |\n",
            "|        LR - SMOTE        |          0.54         |       0.453        |\n",
            "|    LR - Over Sampling    |         0.533         |       0.462        |\n",
            "|   LR - Under Sampling    |         0.536         |       0.474        |\n",
            "|     XGBOOST - SMOTE      |         0.503         |       0.496        |\n",
            "| XGBOOST - Over Sampling  |         0.498         |        0.5         |\n",
            "| XGBOOST - Under Sampling |         0.511         |       0.496        |\n",
            "|  XGBOOST - No Sampling   |         0.969         |       0.027        |\n",
            "+--------------------------+-----------------------+--------------------+\n"
          ]
        }
      ]
    },
    {
      "cell_type": "markdown",
      "source": [
        "XGBOOST is doing well in classfying not fraud transactions without sampling and GNB is the best amongst all is classfying the fraud transactions. So, a mix these two could produce good results. "
      ],
      "metadata": {
        "id": "CzZxmbXBEkym"
      }
    }
  ],
  "metadata": {
    "colab": {
      "name": "model_training_v2.ipynb",
      "provenance": [],
      "collapsed_sections": [
        "5SV45tMxjSsA",
        "oqZsK394jY9A",
        "RYTLYqysksfG",
        "TRpPLWiMlUhi",
        "YgWTUESTtJqx",
        "kPXSsAyQzr4y",
        "4zGihkYqodUi"
      ],
      "machine_shape": "hm"
    },
    "kernelspec": {
      "display_name": "Python 3",
      "name": "python3"
    },
    "language_info": {
      "name": "python"
    },
    "accelerator": "GPU"
  },
  "nbformat": 4,
  "nbformat_minor": 0
}