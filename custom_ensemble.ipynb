{
  "nbformat": 4,
  "nbformat_minor": 0,
  "metadata": {
    "colab": {
      "name": "custom.ipynb",
      "provenance": []
    },
    "kernelspec": {
      "name": "python3",
      "display_name": "Python 3"
    },
    "language_info": {
      "name": "python"
    }
  },
  "cells": [
    {
      "cell_type": "markdown",
      "source": [
        "#Loading dataset "
      ],
      "metadata": {
        "id": "kmCV46qeo0mN"
      }
    },
    {
      "cell_type": "code",
      "execution_count": 1,
      "metadata": {
        "id": "7RFY3MxcoZ9c"
      },
      "outputs": [],
      "source": [
        "import pandas as pd \n",
        "import numpy as np\n",
        "from google.colab import drive\n",
        "import warnings\n",
        "warnings.filterwarnings(\"ignore\")\n",
        "import pickle\n",
        "from sklearn.metrics import roc_auc_score, auc, f1_score, roc_curve, confusion_matrix\n",
        "import matplotlib.pyplot as plt\n",
        "import seaborn as sns\n",
        "from prettytable import PrettyTable as pt\n",
        "from sklearn.model_selection import train_test_split\n",
        "import random\n",
        "from sklearn.naive_bayes import GaussianNB\n",
        "from sklearn.linear_model import LogisticRegression\n",
        "import xgboost\n",
        "from sklearn.tree import DecisionTreeClassifier\n",
        "from sklearn.ensemble import StackingClassifier"
      ]
    },
    {
      "cell_type": "code",
      "execution_count": 3,
      "metadata": {
        "colab": {
          "base_uri": "https://localhost:8080/"
        },
        "id": "ZmRnUYevpXpI",
        "outputId": "7bd515fe-e738-416c-ad68-b0b802df9e47"
      },
      "outputs": [
        {
          "output_type": "stream",
          "name": "stdout",
          "text": [
            "Mounted at /content/drive/\n"
          ]
        }
      ],
      "source": [
        "drive.mount('/content/drive/')"
      ]
    },
    {
      "cell_type": "code",
      "execution_count": 4,
      "metadata": {
        "colab": {
          "base_uri": "https://localhost:8080/"
        },
        "id": "Y_xnRk_apbQq",
        "outputId": "8d0eb73f-c215-40ac-cae5-ff9a019e4b7c"
      },
      "outputs": [
        {
          "output_type": "stream",
          "name": "stdout",
          "text": [
            "/content/drive/MyDrive\n"
          ]
        }
      ],
      "source": [
        "%cd /content/drive/MyDrive/"
      ]
    },
    {
      "cell_type": "code",
      "source": [
        "train = pd.read_csv('pre_bal_train2.csv')"
      ],
      "metadata": {
        "id": "5JlvNdHxz-u_"
      },
      "execution_count": 5,
      "outputs": []
    },
    {
      "cell_type": "code",
      "execution_count": 6,
      "metadata": {
        "id": "oFc0R6IgyYIO"
      },
      "outputs": [],
      "source": [
        "cols_l = train.columns\n",
        "cols_l = cols_l.to_list()"
      ]
    },
    {
      "cell_type": "code",
      "execution_count": 7,
      "metadata": {
        "id": "kmgsG-O9ylyX"
      },
      "outputs": [],
      "source": [
        "cols_l.remove('isFraud')\n",
        "cols_l.remove('uid')"
      ]
    },
    {
      "cell_type": "code",
      "source": [
        "percent_missing = train.isnull().sum() * 100 / len(train)                        #calculating percentage missing values in columns and then making a dataframe from it\n",
        "missing_value_df = pd.DataFrame({'column_name': train.columns,\n",
        "                                 'percent_missing': percent_missing})"
      ],
      "metadata": {
        "id": "xW3k0saEk9d-"
      },
      "execution_count": 8,
      "outputs": []
    },
    {
      "cell_type": "code",
      "source": [
        "missing_value_df.sort_values('percent_missing', ascending=False, inplace=True)"
      ],
      "metadata": {
        "id": "GlJk_WWFlLFU"
      },
      "execution_count": 9,
      "outputs": []
    },
    {
      "cell_type": "code",
      "source": [
        "missing_value_df[:15]    #missing values in all the standard deviation calculated features"
      ],
      "metadata": {
        "colab": {
          "base_uri": "https://localhost:8080/",
          "height": 0
        },
        "id": "SgYQl1JglM3F",
        "outputId": "ef5221b4-1c16-4a93-e50f-b91ebdaeed0b"
      },
      "execution_count": 10,
      "outputs": [
        {
          "output_type": "execute_result",
          "data": {
            "text/html": [
              "\n",
              "  <div id=\"df-4e540d00-daeb-4bb5-acae-5c5582592e37\">\n",
              "    <div class=\"colab-df-container\">\n",
              "      <div>\n",
              "<style scoped>\n",
              "    .dataframe tbody tr th:only-of-type {\n",
              "        vertical-align: middle;\n",
              "    }\n",
              "\n",
              "    .dataframe tbody tr th {\n",
              "        vertical-align: top;\n",
              "    }\n",
              "\n",
              "    .dataframe thead th {\n",
              "        text-align: right;\n",
              "    }\n",
              "</style>\n",
              "<table border=\"1\" class=\"dataframe\">\n",
              "  <thead>\n",
              "    <tr style=\"text-align: right;\">\n",
              "      <th></th>\n",
              "      <th>column_name</th>\n",
              "      <th>percent_missing</th>\n",
              "    </tr>\n",
              "  </thead>\n",
              "  <tbody>\n",
              "    <tr>\n",
              "      <th>C14std</th>\n",
              "      <td>C14std</td>\n",
              "      <td>0.001693</td>\n",
              "    </tr>\n",
              "    <tr>\n",
              "      <th>V318std</th>\n",
              "      <td>V318std</td>\n",
              "      <td>0.001693</td>\n",
              "    </tr>\n",
              "    <tr>\n",
              "      <th>V45std</th>\n",
              "      <td>V45std</td>\n",
              "      <td>0.001693</td>\n",
              "    </tr>\n",
              "    <tr>\n",
              "      <th>C13std</th>\n",
              "      <td>C13std</td>\n",
              "      <td>0.001693</td>\n",
              "    </tr>\n",
              "    <tr>\n",
              "      <th>C1std</th>\n",
              "      <td>C1std</td>\n",
              "      <td>0.001693</td>\n",
              "    </tr>\n",
              "    <tr>\n",
              "      <th>V40std</th>\n",
              "      <td>V40std</td>\n",
              "      <td>0.001693</td>\n",
              "    </tr>\n",
              "    <tr>\n",
              "      <th>C7std</th>\n",
              "      <td>C7std</td>\n",
              "      <td>0.001693</td>\n",
              "    </tr>\n",
              "    <tr>\n",
              "      <th>V79std</th>\n",
              "      <td>V79std</td>\n",
              "      <td>0.001693</td>\n",
              "    </tr>\n",
              "    <tr>\n",
              "      <th>C2std</th>\n",
              "      <td>C2std</td>\n",
              "      <td>0.001693</td>\n",
              "    </tr>\n",
              "    <tr>\n",
              "      <th>V317std</th>\n",
              "      <td>V317std</td>\n",
              "      <td>0.001693</td>\n",
              "    </tr>\n",
              "    <tr>\n",
              "      <th>V113</th>\n",
              "      <td>V113</td>\n",
              "      <td>0.000000</td>\n",
              "    </tr>\n",
              "    <tr>\n",
              "      <th>V136</th>\n",
              "      <td>V136</td>\n",
              "      <td>0.000000</td>\n",
              "    </tr>\n",
              "    <tr>\n",
              "      <th>V137</th>\n",
              "      <td>V137</td>\n",
              "      <td>0.000000</td>\n",
              "    </tr>\n",
              "    <tr>\n",
              "      <th>V114</th>\n",
              "      <td>V114</td>\n",
              "      <td>0.000000</td>\n",
              "    </tr>\n",
              "    <tr>\n",
              "      <th>V108</th>\n",
              "      <td>V108</td>\n",
              "      <td>0.000000</td>\n",
              "    </tr>\n",
              "  </tbody>\n",
              "</table>\n",
              "</div>\n",
              "      <button class=\"colab-df-convert\" onclick=\"convertToInteractive('df-4e540d00-daeb-4bb5-acae-5c5582592e37')\"\n",
              "              title=\"Convert this dataframe to an interactive table.\"\n",
              "              style=\"display:none;\">\n",
              "        \n",
              "  <svg xmlns=\"http://www.w3.org/2000/svg\" height=\"24px\"viewBox=\"0 0 24 24\"\n",
              "       width=\"24px\">\n",
              "    <path d=\"M0 0h24v24H0V0z\" fill=\"none\"/>\n",
              "    <path d=\"M18.56 5.44l.94 2.06.94-2.06 2.06-.94-2.06-.94-.94-2.06-.94 2.06-2.06.94zm-11 1L8.5 8.5l.94-2.06 2.06-.94-2.06-.94L8.5 2.5l-.94 2.06-2.06.94zm10 10l.94 2.06.94-2.06 2.06-.94-2.06-.94-.94-2.06-.94 2.06-2.06.94z\"/><path d=\"M17.41 7.96l-1.37-1.37c-.4-.4-.92-.59-1.43-.59-.52 0-1.04.2-1.43.59L10.3 9.45l-7.72 7.72c-.78.78-.78 2.05 0 2.83L4 21.41c.39.39.9.59 1.41.59.51 0 1.02-.2 1.41-.59l7.78-7.78 2.81-2.81c.8-.78.8-2.07 0-2.86zM5.41 20L4 18.59l7.72-7.72 1.47 1.35L5.41 20z\"/>\n",
              "  </svg>\n",
              "      </button>\n",
              "      \n",
              "  <style>\n",
              "    .colab-df-container {\n",
              "      display:flex;\n",
              "      flex-wrap:wrap;\n",
              "      gap: 12px;\n",
              "    }\n",
              "\n",
              "    .colab-df-convert {\n",
              "      background-color: #E8F0FE;\n",
              "      border: none;\n",
              "      border-radius: 50%;\n",
              "      cursor: pointer;\n",
              "      display: none;\n",
              "      fill: #1967D2;\n",
              "      height: 32px;\n",
              "      padding: 0 0 0 0;\n",
              "      width: 32px;\n",
              "    }\n",
              "\n",
              "    .colab-df-convert:hover {\n",
              "      background-color: #E2EBFA;\n",
              "      box-shadow: 0px 1px 2px rgba(60, 64, 67, 0.3), 0px 1px 3px 1px rgba(60, 64, 67, 0.15);\n",
              "      fill: #174EA6;\n",
              "    }\n",
              "\n",
              "    [theme=dark] .colab-df-convert {\n",
              "      background-color: #3B4455;\n",
              "      fill: #D2E3FC;\n",
              "    }\n",
              "\n",
              "    [theme=dark] .colab-df-convert:hover {\n",
              "      background-color: #434B5C;\n",
              "      box-shadow: 0px 1px 3px 1px rgba(0, 0, 0, 0.15);\n",
              "      filter: drop-shadow(0px 1px 2px rgba(0, 0, 0, 0.3));\n",
              "      fill: #FFFFFF;\n",
              "    }\n",
              "  </style>\n",
              "\n",
              "      <script>\n",
              "        const buttonEl =\n",
              "          document.querySelector('#df-4e540d00-daeb-4bb5-acae-5c5582592e37 button.colab-df-convert');\n",
              "        buttonEl.style.display =\n",
              "          google.colab.kernel.accessAllowed ? 'block' : 'none';\n",
              "\n",
              "        async function convertToInteractive(key) {\n",
              "          const element = document.querySelector('#df-4e540d00-daeb-4bb5-acae-5c5582592e37');\n",
              "          const dataTable =\n",
              "            await google.colab.kernel.invokeFunction('convertToInteractive',\n",
              "                                                     [key], {});\n",
              "          if (!dataTable) return;\n",
              "\n",
              "          const docLinkHtml = 'Like what you see? Visit the ' +\n",
              "            '<a target=\"_blank\" href=https://colab.research.google.com/notebooks/data_table.ipynb>data table notebook</a>'\n",
              "            + ' to learn more about interactive tables.';\n",
              "          element.innerHTML = '';\n",
              "          dataTable['output_type'] = 'display_data';\n",
              "          await google.colab.output.renderOutput(dataTable, element);\n",
              "          const docLink = document.createElement('div');\n",
              "          docLink.innerHTML = docLinkHtml;\n",
              "          element.appendChild(docLink);\n",
              "        }\n",
              "      </script>\n",
              "    </div>\n",
              "  </div>\n",
              "  "
            ],
            "text/plain": [
              "        column_name  percent_missing\n",
              "C14std       C14std         0.001693\n",
              "V318std     V318std         0.001693\n",
              "V45std       V45std         0.001693\n",
              "C13std       C13std         0.001693\n",
              "C1std         C1std         0.001693\n",
              "V40std       V40std         0.001693\n",
              "C7std         C7std         0.001693\n",
              "V79std       V79std         0.001693\n",
              "C2std         C2std         0.001693\n",
              "V317std     V317std         0.001693\n",
              "V113           V113         0.000000\n",
              "V136           V136         0.000000\n",
              "V137           V137         0.000000\n",
              "V114           V114         0.000000\n",
              "V108           V108         0.000000"
            ]
          },
          "metadata": {},
          "execution_count": 10
        }
      ]
    },
    {
      "cell_type": "code",
      "source": [
        "rev = []\n",
        "for yt in range(len(missing_value_df)):\n",
        "     if missing_value_df['percent_missing'][yt] != 0:\n",
        "        rev.append(missing_value_df['column_name'][yt])"
      ],
      "metadata": {
        "id": "9DPIvh2Zl7QM"
      },
      "execution_count": 11,
      "outputs": []
    },
    {
      "cell_type": "code",
      "source": [
        "cols_l = list(set(cols_l) - set(rev))         #removing columns containing missing values"
      ],
      "metadata": {
        "id": "VOOp52EUm3-k"
      },
      "execution_count": 12,
      "outputs": []
    },
    {
      "cell_type": "code",
      "source": [
        "trai = train[cols_l].astype(float)"
      ],
      "metadata": {
        "id": "jUCv35bm2q9g"
      },
      "execution_count": 13,
      "outputs": []
    },
    {
      "cell_type": "markdown",
      "source": [
        "#Splitting the dataset"
      ],
      "metadata": {
        "id": "aGDklekvpBDe"
      }
    },
    {
      "cell_type": "code",
      "source": [
        "train_x, test_x, train_y, test_y = train_test_split(trai.values, train['isFraud'].values, test_size=0.2)"
      ],
      "metadata": {
        "id": "AXqtFaqxppIk"
      },
      "execution_count": 14,
      "outputs": []
    },
    {
      "cell_type": "code",
      "source": [
        "sec_train_x, sec_test_x, sec_train_y, sec_test_y = train_test_split(train_x, train_y, test_size=0.5)"
      ],
      "metadata": {
        "id": "ghAph36647ud"
      },
      "execution_count": 15,
      "outputs": []
    },
    {
      "cell_type": "markdown",
      "source": [
        "#Generating Samples and training base learners\n"
      ],
      "metadata": {
        "id": "_H7C2YhepFNo"
      }
    },
    {
      "cell_type": "code",
      "source": [
        "def generating_samples(input_data, target_data):\n",
        "    sample_row = np.random.choice(len(input_data) , int(0.6 * len(input_data)) , replace=False)\n",
        "    gen_row = np.random.choice(sample_row, int(0.4 * len(input_data)), replace = False)\n",
        "    gen_row = np.sort(gen_row)\n",
        "    sample_row = np.sort(sample_row)\n",
        "    col_n = np.sort(np.random.choice(input_data.shape[1],size=input_data.shape[1],replace =False))\n",
        "    sample_data = input_data[sample_row[:,None],col_n]\n",
        "    target_sample_data = target_data[sample_row]\n",
        "\n",
        "    rep_sample_data = input_data[gen_row[:,None],col_n]\n",
        "    rep_target_sample_data = target_data[gen_row]\n",
        "\n",
        "    final_sample_data = np.vstack((sample_data,rep_sample_data))\n",
        "    final_target_data = np.vstack((target_sample_data.reshape(-1,1), rep_target_sample_data.reshape(-1,1)))\n",
        "\n",
        "    return final_sample_data, final_target_data"
      ],
      "metadata": {
        "id": "Ei6ddidp5nzV"
      },
      "execution_count": 16,
      "outputs": []
    },
    {
      "cell_type": "code",
      "source": [
        "def training_base(data_x, data_y, k):\n",
        "   list_of_models = []\n",
        "   for i in range(0,k):\n",
        "     if k % 2 == 0:\n",
        "       a,b=generating_samples(data_x,data_y)\n",
        "       model = xgboost.XGBClassifier(\n",
        "            n_estimators=1000,\n",
        "            max_depth=11,\n",
        "            learning_rate=0.02,\n",
        "            colsample_bytree=0.4,\n",
        "            eval_metric='auc', \n",
        "          )\n",
        "       model.fit(a,b)\n",
        "       list_of_models.append(model)\n",
        "     if k % 2 == 1:\n",
        "       a,b=generating_samples(data_x,data_y)\n",
        "       model1 = GaussianNB()\n",
        "       model1.fit(a,b)\n",
        "       list_of_models.append(model1)\n",
        "\n",
        "   return list_of_models"
      ],
      "metadata": {
        "id": "ScyWsRZjTr47"
      },
      "execution_count": 20,
      "outputs": []
    },
    {
      "cell_type": "code",
      "source": [
        "list_of_models = training_base(sec_train_x, sec_train_y, 4)"
      ],
      "metadata": {
        "id": "3OVkzMf8aQkB"
      },
      "execution_count": 21,
      "outputs": []
    },
    {
      "cell_type": "markdown",
      "source": [
        "#Predicting with base learners and training metamodel"
      ],
      "metadata": {
        "id": "rZUuGgMjlalQ"
      }
    },
    {
      "cell_type": "code",
      "source": [
        "def prediction_dataset(list_of_models, sec_test_x):\n",
        "  all_pred = []\n",
        "  for tt in range(len(list_of_models)):\n",
        "     predict = list_of_models[tt].predict(sec_test_x)\n",
        "     all_pred.append(predict)\n",
        "     \n",
        "  final_pred = np.stack(all_pred, axis=1)\n",
        "  return final_pred"
      ],
      "metadata": {
        "id": "Cv-BgleAeea0"
      },
      "execution_count": 22,
      "outputs": []
    },
    {
      "cell_type": "code",
      "source": [
        "def meta_train(list_of_models, sec_test_x, sec_test_y):\n",
        "    final_pred = prediction_dataset(list_of_models, sec_test_x)\n",
        "    metamodel = xgboost.XGBClassifier(\n",
        "            n_estimators=1000,\n",
        "            max_depth=11,\n",
        "            learning_rate=0.02,\n",
        "            colsample_bytree=0.4,\n",
        "            eval_metric='auc')\n",
        "    metamodel.fit(final_pred, sec_test_y)\n",
        "    return metamodel"
      ],
      "metadata": {
        "id": "pz_qHsydjDGL"
      },
      "execution_count": 23,
      "outputs": []
    },
    {
      "cell_type": "code",
      "source": [
        "metamodel = meta_train(list_of_models, sec_test_x, sec_test_y)"
      ],
      "metadata": {
        "id": "lMII82TYjj9k"
      },
      "execution_count": 24,
      "outputs": []
    },
    {
      "cell_type": "markdown",
      "source": [
        "#Predicting with Metamodel"
      ],
      "metadata": {
        "id": "mmAfQ5lzlioa"
      }
    },
    {
      "cell_type": "code",
      "source": [
        "def meta_predict(list_of_models, sec_test_x, metamodel):\n",
        "    final_pred = prediction_dataset(list_of_models, sec_test_x)\n",
        "    pred_fin = metamodel.predict(final_pred)\n",
        "    return pred_fin"
      ],
      "metadata": {
        "id": "p6SAeqvakCDw"
      },
      "execution_count": 25,
      "outputs": []
    },
    {
      "cell_type": "code",
      "source": [
        "meta_prediction = meta_predict(list_of_models, test_x, metamodel)"
      ],
      "metadata": {
        "id": "WcY3vGiJkp18"
      },
      "execution_count": 26,
      "outputs": []
    },
    {
      "cell_type": "markdown",
      "source": [
        "#Final results"
      ],
      "metadata": {
        "id": "OByyFyw9rA53"
      }
    },
    {
      "cell_type": "code",
      "source": [
        "fone = f1_score(test_y, meta_prediction, average=None)\n",
        "fone"
      ],
      "metadata": {
        "colab": {
          "base_uri": "https://localhost:8080/"
        },
        "id": "kMzLJFCRG2m7",
        "outputId": "8fe7fc57-b0b5-46ee-dcab-d52b514299d0"
      },
      "execution_count": 27,
      "outputs": [
        {
          "output_type": "execute_result",
          "data": {
            "text/plain": [
              "array([0.98977153, 0.61244649])"
            ]
          },
          "metadata": {},
          "execution_count": 27
        }
      ]
    },
    {
      "cell_type": "code",
      "source": [
        "en_confusion = confusion_matrix(test_y, meta_prediction)\n",
        "sns.heatmap(en_confusion, annot=True, fmt='g')\n",
        "plt.xlabel('Prediction')\n",
        "plt.ylabel('True')\n",
        "plt.plot()"
      ],
      "metadata": {
        "colab": {
          "base_uri": "https://localhost:8080/",
          "height": 296
        },
        "id": "ORUY6XLbHKUT",
        "outputId": "f7cda3e7-b876-49d3-99dd-34920a4f593b"
      },
      "execution_count": 28,
      "outputs": [
        {
          "output_type": "execute_result",
          "data": {
            "text/plain": [
              "[]"
            ]
          },
          "metadata": {},
          "execution_count": 28
        },
        {
          "output_type": "display_data",
          "data": {
            "image/png": "[encoded data removed]",
            "text/plain": [
              "<Figure size 432x288 with 2 Axes>"
            ]
          },
          "metadata": {
            "needs_background": "light"
          }
        }
      ]
    }
  ]
}
